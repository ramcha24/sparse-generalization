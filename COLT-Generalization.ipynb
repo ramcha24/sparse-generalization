{
 "cells": [
  {
   "cell_type": "code",
   "execution_count": 3,
   "id": "073e25ff-609b-4784-8f5b-25840a6030d4",
   "metadata": {
    "id": "073e25ff-609b-4784-8f5b-25840a6030d4",
    "tags": [
     "parameters"
    ]
   },
   "outputs": [],
   "source": [
    "# Model Hyperparameters\n",
    "layer_dims = [30,30]\n",
    "saved = False\n",
    "\n",
    "# Data Hyper-parameters \n",
    "pretrain_ratio = 0.15\n",
    "dataset_percentage = 1.0\n",
    "\n",
    "# Generalization Hyper-parameters\n",
    "num_epsilon = 30\n",
    "epsilon_max = 0.5\n",
    "epsilon_min = 0.0001\n",
    "\n",
    "num_alpha = 10\n",
    "alpha_max = 1.0\n",
    "alpha_min = 0.001\n",
    "\n",
    "# Training Hyper-parameters\n",
    "num_steps = 5000\n",
    "lr = 0.01 \n",
    "reg_eta = 1.0\n",
    "batch_size = 100\n",
    "\n",
    "# Fixed Constants\n",
    "MNIST_PATH = './data/mnist'\n",
    "num_classes = 10\n",
    "channels = 1\n",
    "height = 28\n",
    "width = 28\n",
    "in_dim = 784\n",
    "full_size = 55000"
   ]
  },
  {
   "cell_type": "code",
   "execution_count": 2,
   "id": "dc7929e6-22b7-49e8-a679-c343a850b3e8",
   "metadata": {},
   "outputs": [],
   "source": [
    "# Parameters\n",
    "#layer_dims = [100]\n",
    "#dataset_percentage = 1.0\n",
    "#reg_eta = 0.0\n",
    "#pretrain_ratio = 0.05\n",
    "#saved = False\n"
   ]
  },
  {
   "cell_type": "markdown",
   "id": "8e97e91f-dce1-4909-a1f8-b169bb5288e8",
   "metadata": {
    "id": "8e97e91f-dce1-4909-a1f8-b169bb5288e8"
   },
   "source": [
    "## General Imports"
   ]
  },
  {
   "cell_type": "code",
   "execution_count": 5,
   "id": "dd0f7373-e5a9-4d21-bf77-9724e76ca7d8",
   "metadata": {
    "colab": {
     "base_uri": "https://localhost:8080/",
     "height": 35
    },
    "id": "dd0f7373-e5a9-4d21-bf77-9724e76ca7d8",
    "outputId": "92058e9b-9ba9-40ef-e36e-3387a70de5bd"
   },
   "outputs": [
    {
     "data": {
      "text/plain": [
       "'1.11.0'"
      ]
     },
     "execution_count": 5,
     "metadata": {},
     "output_type": "execute_result"
    }
   ],
   "source": [
    "%matplotlib inline\n",
    "import matplotlib.pyplot as plt\n",
    "from matplotlib import rcParams\n",
    "rcParams['axes.grid'] = False\n",
    "\n",
    "import os \n",
    "import warnings\n",
    "warnings.filterwarnings(\"ignore\")\n",
    "\n",
    "import pickle\n",
    "from IPython.display import clear_output\n",
    "from pathlib import Path\n",
    "import time\n",
    "import argparse\n",
    "\n",
    "from collections import OrderedDict\n",
    "import math \n",
    "import numpy as np\n",
    "from PIL import Image\n",
    "\n",
    "import torch\n",
    "from torch.autograd import Variable\n",
    "import torch.nn as nn\n",
    "import torch.nn.functional as F\n",
    "import torchvision\n",
    "import torchvision.transforms as transforms\n",
    "import torchvision.datasets as datasets\n",
    "import copy\n",
    "\n",
    "clear_output()\n",
    "torch.autograd.set_detect_anomaly(True)\n",
    "torch.__version__"
   ]
  },
  {
   "cell_type": "markdown",
   "id": "ba5d5c17-eb51-4ea4-be66-2e6c9315466d",
   "metadata": {
    "id": "ba5d5c17-eb51-4ea4-be66-2e6c9315466d"
   },
   "source": [
    "## Load Dataset "
   ]
  },
  {
   "cell_type": "code",
   "execution_count": 4,
   "id": "bb64ce55-8d9e-4d0f-822d-8f3fbe4f686a",
   "metadata": {
    "colab": {
     "base_uri": "https://localhost:8080/",
     "height": 192
    },
    "id": "bb64ce55-8d9e-4d0f-822d-8f3fbe4f686a",
    "outputId": "bdd022df-0e67-4e72-b7ce-adc686d6f84a"
   },
   "outputs": [
    {
     "name": "stdout",
     "output_type": "stream",
     "text": [
      "Loading full training dataset\n",
      "(60000, 28, 28)\n",
      "(60000,)\n",
      "Shuffling for a new experiment\n",
      "Split into train and validation data\n",
      "(55000, 28, 28) (55000,)\n",
      "(5000, 28, 28) (5000,)\n",
      "Here are some example images\n",
      "[1 6 3 6 7 2 4 1 1 5]\n",
      "Normalizing data\n",
      "Pretraining with a portion of the training data\n",
      "Pretraining size is 8250\n",
      "Batch size for emp risk is 46750\n"
     ]
    },
    {
     "data": {
      "image/png": "[encoded data removed]",
      "text/plain": [
       "<Figure size 640x480 with 1 Axes>"
      ]
     },
     "metadata": {},
     "output_type": "display_data"
    }
   ],
   "source": [
    "# Load dataset \n",
    "print(\"Loading full training dataset\")\n",
    "mnist_train = torchvision.datasets.MNIST(str(MNIST_PATH), train=True, download=True)\n",
    "train_images = mnist_train.train_data.numpy().astype(np.float32)\n",
    "train_labels = mnist_train.train_labels.numpy().astype(np.int)\n",
    "print(train_images.shape)\n",
    "print(train_labels.shape)\n",
    "\n",
    "# Shuffle the data for each experiment. \n",
    "# only run this cell once per trained model. \n",
    "print(\"Shuffling for a new experiment\")\n",
    "seed = np.random.randint(0, 10000)\n",
    "np.random.seed(seed)\n",
    "np.random.shuffle(train_images)\n",
    "np.random.seed(seed)\n",
    "np.random.shuffle(train_labels)\n",
    "\n",
    "# Compute new size of dataset\n",
    "dataset_size = int(dataset_percentage*full_size)\n",
    "# Split into train and validation sets based on dataset_size\n",
    "print(\"Split into train and validation data\")\n",
    "train_x, val_x = np.split(train_images, [dataset_size])\n",
    "train_labels, val_labels = np.split(train_labels, [dataset_size])\n",
    "print(train_x.shape, train_labels.shape)\n",
    "print(val_x.shape, val_labels.shape)\n",
    "\n",
    "# Show examples \n",
    "print(\"Here are some example images\") \n",
    "example_images = np.concatenate(train_x[:10], axis=1)\n",
    "example_labels = train_labels[:10]\n",
    "print(example_labels)\n",
    "plt.imshow(example_images)\n",
    "\n",
    "\n",
    "# Helper function to normalize images to have mean 0 and stdev 1\n",
    "def normalize_stats_image_by_image(images):\n",
    "  mean = images.mean(axis=(1,2), keepdims=True)\n",
    "  stdev = images.std(axis=(1,2), keepdims=True)\n",
    "  return (images - mean) / stdev\n",
    "\n",
    "print(\"Normalizing data\")\n",
    "train_images = normalize_stats_image_by_image(train_x)\n",
    "val_images = normalize_stats_image_by_image(val_x)\n",
    "    \n",
    "pretrain_size = int(dataset_size*pretrain_ratio)\n",
    "reduced_dataset_size = dataset_size-pretrain_size\n",
    "\n",
    "if pretrain_ratio > 0.0: \n",
    "    print(\"Pretraining with a portion of the training data\")\n",
    "    print(f'Pretraining size is {pretrain_size}')\n",
    "    print(f'Batch size for emp risk is {reduced_dataset_size}')\n",
    "    pretrain_images = train_images[:pretrain_size]\n",
    "    pretrain_labels = train_labels[:pretrain_size]\n",
    "else:\n",
    "    print(\"No pretraining\")\n",
    "    \n",
    "batch_size=100"
   ]
  },
  {
   "cell_type": "code",
   "execution_count": 5,
   "id": "QMLjxFg26X9H",
   "metadata": {
    "colab": {
     "base_uri": "https://localhost:8080/",
     "height": 156
    },
    "id": "QMLjxFg26X9H",
    "outputId": "45bf3b97-c18b-4772-9464-0a66cd5d0f22"
   },
   "outputs": [
    {
     "name": "stdout",
     "output_type": "stream",
     "text": [
      "Loading test dataset\n",
      "(10000, 28, 28)\n",
      "(10000,)\n",
      "Here are some example test images\n",
      "[7 2 1 0 4 1 4 9 5 9]\n",
      "Normalizing test images for evaluation\n"
     ]
    },
    {
     "data": {
      "image/png": "[encoded data removed]",
      "text/plain": [
       "<Figure size 640x480 with 1 Axes>"
      ]
     },
     "metadata": {},
     "output_type": "display_data"
    }
   ],
   "source": [
    "print(\"Loading test dataset\")\n",
    "mnist_test = torchvision.datasets.MNIST(str(MNIST_PATH), train=False, download=True)\n",
    "test_images = mnist_test.test_data.numpy().astype(np.float32)\n",
    "test_labels = mnist_test.test_labels.numpy().astype(np.int)\n",
    "print(test_images.shape)\n",
    "print(test_labels.shape)\n",
    "\n",
    "print(\"Here are some example test images\")\n",
    "example_test_images = np.concatenate(test_images[:10], axis=1)\n",
    "example_test_labels = test_labels[:10]\n",
    "print(example_test_labels)\n",
    "#print(example_test_images.shape)\n",
    "plt.imshow(example_test_images)\n",
    "\n",
    "print(\"Normalizing test images for evaluation\")\n",
    "test_images = normalize_stats_image_by_image(test_images)\n"
   ]
  },
  {
   "cell_type": "code",
   "execution_count": 6,
   "id": "4b060631-bc53-44c5-b5a0-f83271e20d8e",
   "metadata": {
    "colab": {
     "base_uri": "https://localhost:8080/",
     "height": 139
    },
    "id": "4b060631-bc53-44c5-b5a0-f83271e20d8e",
    "outputId": "2ee309b8-51ea-4c71-8e6a-89fbdfcbc2fa"
   },
   "outputs": [
    {
     "name": "stdout",
     "output_type": "stream",
     "text": [
      "Here are some example validation images\n",
      "[5 4 6 7 1 7 4 7 9 5]\n"
     ]
    },
    {
     "data": {
      "image/png": "[encoded data removed]",
      "text/plain": [
       "<Figure size 640x480 with 1 Axes>"
      ]
     },
     "metadata": {},
     "output_type": "display_data"
    }
   ],
   "source": [
    "print(\"Here are some example validation images\")\n",
    "example_images = np.concatenate(val_images[:10], axis=1)\n",
    "example_labels = val_labels[:10]\n",
    "#print(example_images.shape)\n",
    "plt.imshow(example_images)\n",
    "print(example_labels)\n"
   ]
  },
  {
   "cell_type": "code",
   "execution_count": 7,
   "id": "6fdd7896-cef3-45f4-9ad4-5ffa88b21196",
   "metadata": {
    "colab": {
     "base_uri": "https://localhost:8080/"
    },
    "id": "6fdd7896-cef3-45f4-9ad4-5ffa88b21196",
    "outputId": "8a821062-7ff0-4ca1-e30c-e7ba54ae5965"
   },
   "outputs": [
    {
     "data": {
      "text/plain": [
       "device(type='cuda')"
      ]
     },
     "execution_count": 7,
     "metadata": {},
     "output_type": "execute_result"
    }
   ],
   "source": [
    "def to_device(data, device):\n",
    "    \"\"\"Move tensor(s) to chosen device\"\"\"\n",
    "    if isinstance(data, (list,tuple)):\n",
    "        return [to_device(x, device) for x in data]\n",
    "    return data.to(device, non_blocking=True)\n",
    "\n",
    "def get_default_device():\n",
    "    \"\"\"Pick GPU if available, else CPU\"\"\"\n",
    "    if torch.cuda.is_available():\n",
    "        return torch.device('cuda')\n",
    "    else:\n",
    "        return torch.device('cpu')\n",
    "\n",
    "device = get_default_device()\n",
    "device "
   ]
  },
  {
   "cell_type": "code",
   "execution_count": 8,
   "id": "3ec66442-d371-4565-a849-3526185687dd",
   "metadata": {
    "id": "3ec66442-d371-4565-a849-3526185687dd"
   },
   "outputs": [],
   "source": [
    "def batch(batch_size, device='cuda', training=True, pretraining=False, post_train=False):\n",
    "    if training:\n",
    "        if pretraining:\n",
    "            if not post_train:\n",
    "                random_ind = np.random.choice(pretrain_size, size=batch_size, replace=False)\n",
    "                input_batch = pretrain_images[random_ind]\n",
    "                label_batch = pretrain_labels[random_ind]\n",
    "            else:\n",
    "                print(f'post-train sampling from pretraindata')\n",
    "                input_batch = pretrain_images[:batch_size]\n",
    "                label_batch = pretrain_labels[:batch_size]\n",
    "        else:\n",
    "            if pretraining: print(f'ALARMMM')\n",
    "            if not post_train:\n",
    "                #print(f'random sampling from full data')\n",
    "                random_ind = np.random.choice(train_images.shape[0], size=batch_size, replace=False)\n",
    "                input_batch = train_images[random_ind]\n",
    "                label_batch = train_labels[random_ind]\n",
    "            else:\n",
    "                print(f'sampling from full data')\n",
    "                input_batch = train_images[:batch_size]\n",
    "                label_batch = train_labels[:batch_size]\n",
    "    else:\n",
    "        #print(f'sampling from validation data')\n",
    "        input_batch = val_images[:batch_size]\n",
    "        label_batch = val_labels[:batch_size]\n",
    "  \n",
    "    input_batch = input_batch[:, np.newaxis, :, :]\n",
    "  \n",
    "    input_batch = torch.tensor(input_batch, requires_grad=False, device=device)\n",
    "    label_batch = torch.tensor(label_batch, requires_grad=False, device=device)\n",
    "  \n",
    "    return input_batch, label_batch\n"
   ]
  },
  {
   "cell_type": "code",
   "execution_count": 9,
   "id": "bqjN_xu969IX",
   "metadata": {
    "id": "bqjN_xu969IX"
   },
   "outputs": [],
   "source": [
    "def batch_test(batch_size, device='cuda'):\n",
    "    input_batch = test_images[:batch_size]\n",
    "    label_batch = test_labels[:batch_size]\n",
    "  \n",
    "    input_batch = input_batch[:, np.newaxis, :, :]\n",
    "  \n",
    "    input_batch = torch.tensor(input_batch, requires_grad=False, device=device)\n",
    "    label_batch = torch.tensor(label_batch, requires_grad=False, device=device)\n",
    "  \n",
    "    return input_batch, label_batch\n"
   ]
  },
  {
   "cell_type": "markdown",
   "id": "0cd24567-0170-4426-93c5-ab2ce16d7a21",
   "metadata": {
    "id": "0cd24567-0170-4426-93c5-ab2ce16d7a21"
   },
   "source": [
    "## Define Model Class"
   ]
  },
  {
   "cell_type": "code",
   "execution_count": 10,
   "id": "11ee0766-97ae-4923-aa58-f536128bd404",
   "metadata": {
    "id": "11ee0766-97ae-4923-aa58-f536128bd404"
   },
   "outputs": [],
   "source": [
    "class Model(nn.Module):\n",
    "    \"\"\"A LeNet fully-connected model for MNIST\"\"\"\n",
    "\n",
    "    def __init__(self, plan, outputs=10):\n",
    "        super(Model, self).__init__()\n",
    "        \n",
    "        print(\"Initializing\")\n",
    "        self.num_layers = len(plan) \n",
    "        self.layers = []\n",
    "        current_size = 784  # 28 * 28 = number of pixels in MNIST image.\n",
    "\n",
    "        for size in plan:\n",
    "            self.layers.append(nn.Linear(current_size, size, bias=False))\n",
    "            current_size = size\n",
    "        \n",
    "        for i, layer in enumerate(self.layers):\n",
    "            self.add_module(f\"layer{i}\", layer)            \n",
    "\n",
    "        self.fc = nn.Linear(current_size, outputs, bias=False)\n",
    "\n",
    "    def forward(self, x):\n",
    "        x = x.view(x.size(0), -1)  # Flatten.\n",
    "\n",
    "        for i, layer in enumerate(self.layers):\n",
    "            x = F.relu(self.layers[i](x))\n",
    "\n",
    "        return self.fc(x)\n",
    "\n",
    "class ForwardHookModel(nn.Module):\n",
    "    def __init__(self, trained_model, output_layers, *args):\n",
    "        super(ForwardHookModel, self).__init__(*args)\n",
    "        self.output_layers = output_layers\n",
    "        self.selected_out = OrderedDict()\n",
    "        self.pretrained = trained_model\n",
    "        self.fhooks = []\n",
    "\n",
    "        self.selected_out.keys()\n",
    "\n",
    "        for index, layer_name in enumerate(list(self.pretrained._modules.keys())):\n",
    "            # print('\\n index : {} \\t layer name : {}'.format(index, layer_name))\n",
    "            if index in self.output_layers:\n",
    "                self.fhooks.append(\n",
    "                    getattr(self.pretrained, layer_name).register_forward_hook(self.forward_hook(layer_name)))\n",
    "\n",
    "    def forward_hook(self, layer_name):\n",
    "        def hook(module, input, output):\n",
    "            self.selected_out[layer_name] = output\n",
    "\n",
    "        return hook\n",
    "\n",
    "    def forward(self, x):\n",
    "        out = self.pretrained(x)\n",
    "        return out, self.selected_out"
   ]
  },
  {
   "cell_type": "markdown",
   "id": "145c38e5-d8eb-46c8-916d-7782e5757909",
   "metadata": {
    "id": "145c38e5-d8eb-46c8-916d-7782e5757909"
   },
   "source": [
    "## Miscellaneous Helper functions"
   ]
  },
  {
   "cell_type": "code",
   "execution_count": 11,
   "id": "97c685fd-1bea-4a68-b2ca-35d3177dd273",
   "metadata": {
    "id": "97c685fd-1bea-4a68-b2ca-35d3177dd273"
   },
   "outputs": [],
   "source": [
    "def get_path(layer_dims, data_str='mnist', prefix_str='weights', reg_eta = None, layer_index = None, dataset_percentage=1.0, pretrain_ratio=0.0):\n",
    "    # prefix_str should be either - weights, training\n",
    "    # path = './COLT_saved/mnist/500_500/base_reg_0d00_datasetp_0d8'\n",
    "    folder_path = './COLT_saved/' + data_str + '/'\n",
    "    \n",
    "    layer_string=''\n",
    "    for item in layer_dims:\n",
    "        if layer_string == '':\n",
    "            layer_string += str(item) \n",
    "        else:\n",
    "            layer_string += '_' + str(item) \n",
    "    folder_path += layer_string + '/base'\n",
    "    \n",
    "    if pretrain_ratio > 0.0:\n",
    "        pretrain_str = f'_{pretrain_ratio:.2f}'\n",
    "        folder_path += '_pretrain' + pretrain_str.replace('.','d')\n",
    "        \n",
    "    if reg_eta is not None:\n",
    "        reg_eta_str = f'_{reg_eta:.2f}'\n",
    "        folder_path += '_reg' + reg_eta_str.replace('.','d')\n",
    "    else:\n",
    "        folder_path += '_zeroreg'\n",
    "    \n",
    "    dp_str = f'_{dataset_percentage:.2f}'\n",
    "    folder_path += '_datasetp' + dp_str.replace('.','d')\n",
    "    \n",
    "    isExist = os.path.exists(folder_path)\n",
    "    if not isExist:\n",
    "       # Create a new directory because it does not exist\n",
    "       os.makedirs(folder_path)\n",
    "    \n",
    "    suffix_str = None\n",
    "    if prefix_str == 'weights':\n",
    "        suffix_str = '.pth' \n",
    "    elif prefix_str == 'training' or prefix_str == 'lipschitz' or prefix_str == 'radius':\n",
    "        suffix_str = '.pdf'\n",
    "    elif prefix_str == 'generalization_info':\n",
    "        suffix_str = ''\n",
    "    \n",
    "    if suffix_str is None:\n",
    "        raise ValueError(f'Invalid prefix string, given {prefix_str} but valid options = weights / training / generalization_info / radius / lipschitz')\n",
    "    \n",
    "    if prefix_str == 'radius':\n",
    "        assert layer_index is not None\n",
    "        prefix_str += '_layer' + str(layer_index)\n",
    "    \n",
    "    file_path = ''\n",
    "    file_path += prefix_str  \n",
    "    file_path += suffix_str\n",
    "    \n",
    "    return os.path.join(folder_path,file_path)\n",
    "    "
   ]
  },
  {
   "cell_type": "markdown",
   "id": "e0be046d-e045-4cc5-adf8-b20781495280",
   "metadata": {
    "id": "e0be046d-e045-4cc5-adf8-b20781495280"
   },
   "source": [
    "## Training Setup"
   ]
  },
  {
   "cell_type": "code",
   "execution_count": 12,
   "id": "5a1d005a-adb8-46d4-a625-577907ac5bb3",
   "metadata": {
    "id": "5a1d005a-adb8-46d4-a625-577907ac5bb3"
   },
   "outputs": [],
   "source": [
    "def train_step(optimizer, batch_size=100, reg_eta = None, pretraining=False):\n",
    "    \n",
    "    model.train()\n",
    "    input_batch, label_batch = batch(batch_size, training=True, pretraining=pretraining)\n",
    "    output_batch = model(input_batch)\n",
    "    \n",
    "    loss = F.cross_entropy(output_batch, label_batch)\n",
    "    _, pred_batch = torch.max(output_batch, dim=1)\n",
    "    error_rate = 1.0 - (pred_batch == label_batch).float().mean()\n",
    "    \n",
    "    if reg_eta is not None:\n",
    "        reg_loss = 0.0 \n",
    "        for layer_index in range(model.num_layers):\n",
    "            W = getattr(model, f'layer{layer_index}').weight\n",
    "            W_diff = W-W_inits[layer_index]\n",
    "            reg_loss += 1/(model.num_layers+1) * (torch.linalg.matrix_norm(W_diff,ord='fro') ** 2)\n",
    "            \n",
    "        W = getattr(model, 'fc').weight\n",
    "        W_diff = W-W_inits[model.num_layers]\n",
    "        reg_loss += 1/(model.num_layers+1) * (torch.linalg.matrix_norm(W_diff,ord='fro') ** 2)\n",
    "        loss += reg_eta * reg_loss  \n",
    "    else:\n",
    "        reg_loss = 0.0 \n",
    "        for layer_index in range(model.num_layers):\n",
    "            W = getattr(model, f'layer{layer_index}').weight\n",
    "            W_row_norm = torch.norm(W, p=2, dim=1)\n",
    "            W_row_normalized = W.div(W_row_norm.expand_as(W.t()).t())\n",
    "            W_gram_matrix = torch.matmul(W_row_normalized, W_row_normalized.t())\n",
    "            sq_dim = W_gram_matrix.shape[0]\n",
    "            identity = torch.Tensor(np.eye(sq_dim)).type(W.type()).to(W.device)\n",
    "            reg_loss += 1/(model.num_layers+1) * torch.linalg.matrix_norm(identity - W_gram_matrix,ord='fro') ** 2\n",
    "        \n",
    "        W = getattr(model, 'fc').weight.t()\n",
    "        W_row_norm = torch.norm(W, p=2, dim=1)\n",
    "        W_row_normalized = W.div(W_row_norm.expand_as(W.t()).t())\n",
    "        W_gram_matrix = torch.matmul(W_row_normalized, W_row_normalized.t())\n",
    "        sq_dim = W_gram_matrix.shape[0]\n",
    "        identity = torch.Tensor(np.eye(sq_dim)).type(W.type()).to(W.device)\n",
    "        reg_loss += 1/(model.num_layers+1) * torch.linalg.matrix_norm(identity - W_gram_matrix,ord='fro') ** 2\n",
    "        #loss += reg_loss \n",
    "    \n",
    "    optimizer.zero_grad()\n",
    "    loss.backward()\n",
    "    clip_value = 5\n",
    "    torch.nn.utils.clip_grad_norm_(model.parameters(), clip_value)\n",
    "    optimizer.step()\n",
    "  \n",
    "    return loss.item(), error_rate.item()\n",
    "\n",
    "def val():\n",
    "  \n",
    "    model.eval()\n",
    "    input_batch, label_batch = batch(val_images.shape[0], training=False)\n",
    "    output_batch = model(input_batch)\n",
    "\n",
    "    loss = F.cross_entropy(output_batch, label_batch)\n",
    "    _, pred_batch = torch.max(output_batch, dim=1)\n",
    "    error_rate = 1.0 - (pred_batch == label_batch).float().mean()\n",
    "  \n",
    "    return loss.item(), error_rate.item()"
   ]
  },
  {
   "cell_type": "code",
   "execution_count": 13,
   "id": "e1c11f8b-03bc-4cf7-adb0-bc8cb843efc3",
   "metadata": {
    "id": "e1c11f8b-03bc-4cf7-adb0-bc8cb843efc3"
   },
   "outputs": [],
   "source": [
    "def run_train(model, layer_dims, data_str = 'mnist', reg_eta=None, dataset_percentage=1.0, pretraining=False, num_steps = 5000, lr=0.01, pretrain_ratio=0.0):\n",
    "    if not pretraining:\n",
    "        model_path = get_path(layer_dims, data_str = 'mnist', prefix_str = 'weights', reg_eta = reg_eta, dataset_percentage=dataset_percentage, pretrain_ratio=pretrain_ratio)\n",
    "        print(f'Model will be saved at {model_path}')\n",
    "    else:\n",
    "        print(f'Model will not be saved') \n",
    "        \n",
    "    optimizer = torch.optim.SGD(model.parameters(), lr=lr) #, weight_decay=0.1\n",
    "    \n",
    "    # for module in model.children():\n",
    "    #     module.reset_parameters()\n",
    "\n",
    "    info = []\n",
    "    num_steps_per_val = 50\n",
    "    best_val_err = 1.0\n",
    "    for step in range(num_steps):\n",
    "        is_nan = torch.stack([torch.isnan(p).any() for p in model.parameters()]).any()\n",
    "        if is_nan: raise ValueError('The model parameters have nan!')\n",
    "        train_loss, train_err = train_step(optimizer, reg_eta = reg_eta, pretraining=pretraining)\n",
    "            \n",
    "        if step % num_steps_per_val == 0:\n",
    "            val_loss, val_err = val()\n",
    "            if val_err < best_val_err:\n",
    "                best_val_err = val_err\n",
    "                print('Step {:5d}: Obtained a best validation error of {:.3f}.'.format(step, best_val_err))\n",
    "                # print('Step {:5d}: While training error is {:.3f}.'.format(step, train_err))\n",
    "                info.append([step, train_loss, val_loss, train_err, val_err])\n",
    "    \n",
    "    x00, y11, y12, y21, y22 = zip(*info)\n",
    "    fig, ax = plt.subplots(2, 1, sharex=True)\n",
    "    ax[0].plot(x00, y11, x00, y12)\n",
    "    ax[0].legend(['Train loss', 'Val loss'])\n",
    "    ax[1].plot(x00, y21, x00, y22)\n",
    "    ax[1].legend(['Train err', 'Val err'])\n",
    "    ax[1].set_ylim([0.0, 0.25])\n",
    "    if not pretraining: \n",
    "        plot_path = get_path(layer_dims, data_str = 'mnist', prefix_str = 'training', reg_eta = reg_eta, dataset_percentage=dataset_percentage, pretrain_ratio=pretrain_ratio)\n",
    "        print(f'Training plots will be saved at {plot_path}')            \n",
    "        plt.savefig(plot_path, bbox_inches=\"tight\")\n",
    "        torch.save(model.state_dict(), model_path)\n",
    "        "
   ]
  },
  {
   "cell_type": "code",
   "execution_count": 14,
   "id": "966dc8d5-3468-4a8d-a276-df920f31dcce",
   "metadata": {},
   "outputs": [],
   "source": [
    "def get_model_weights(m):\n",
    "    weights = []\n",
    "    weights_norms_f = []\n",
    "    weights_norms_o = []\n",
    "    for layer_index in range(m.num_layers):\n",
    "        temp = getattr(model, f'layer{layer_index}').weight.data\n",
    "        weights.append(temp)\n",
    "        weights_norms_f.append((torch.linalg.matrix_norm(temp, ord='fro'))**2)\n",
    "        weights_norms_o.append((torch.linalg.matrix_norm(temp, ord=2))**2)\n",
    "        del temp\n",
    "\n",
    "    temp = getattr(m, 'fc').weight.data\n",
    "    weights.append(temp)\n",
    "    weights_norms_f.append((torch.linalg.matrix_norm(temp, ord='fro'))**2)\n",
    "    weights_norms_o.append((torch.linalg.matrix_norm(temp, ord=2))**2)\n",
    "    del temp\n",
    "    \n",
    "    return weights, weights_norms_f, weights_norms_o"
   ]
  },
  {
   "cell_type": "markdown",
   "id": "fb2a4101-ba01-4a93-8d59-bf0d91c57698",
   "metadata": {
    "id": "fb2a4101-ba01-4a93-8d59-bf0d91c57698"
   },
   "source": [
    "## Instantiate Model\n",
    "- Define based on layer_dims \n",
    "- Get model path\n",
    "- Load or Train + Save"
   ]
  },
  {
   "cell_type": "code",
   "execution_count": 15,
   "id": "c56c77cc-2614-440d-b6c8-dd94077c766e",
   "metadata": {
    "collapsed": true,
    "jupyter": {
     "outputs_hidden": true
    },
    "tags": []
   },
   "outputs": [
    {
     "name": "stdout",
     "output_type": "stream",
     "text": [
      "-------- PRETRAINING ------\n",
      "Initializing\n",
      "Model(\n",
      "  (layer0): Linear(in_features=784, out_features=30, bias=False)\n",
      "  (layer1): Linear(in_features=30, out_features=30, bias=False)\n",
      "  (fc): Linear(in_features=30, out_features=10, bias=False)\n",
      ")\n",
      "Model will not be saved\n",
      "Step     0: Obtained a best validation error of 0.893.\n",
      "Step    50: Obtained a best validation error of 0.667.\n",
      "Step   100: Obtained a best validation error of 0.585.\n",
      "Step   150: Obtained a best validation error of 0.549.\n",
      "Step   200: Obtained a best validation error of 0.452.\n",
      "Step   250: Obtained a best validation error of 0.289.\n",
      "Step   300: Obtained a best validation error of 0.229.\n",
      "Step   350: Obtained a best validation error of 0.197.\n",
      "Step   400: Obtained a best validation error of 0.168.\n",
      "Step   450: Obtained a best validation error of 0.158.\n",
      "Step   500: Obtained a best validation error of 0.148.\n",
      "Step   550: Obtained a best validation error of 0.139.\n",
      "Step   600: Obtained a best validation error of 0.127.\n",
      "Step   700: Obtained a best validation error of 0.120.\n",
      "Step   750: Obtained a best validation error of 0.115.\n",
      "Step   800: Obtained a best validation error of 0.113.\n",
      "Step   850: Obtained a best validation error of 0.109.\n",
      "Step   900: Obtained a best validation error of 0.109.\n",
      "Step   950: Obtained a best validation error of 0.108.\n",
      "Step  1000: Obtained a best validation error of 0.104.\n",
      "Step  1050: Obtained a best validation error of 0.103.\n",
      "Step  1100: Obtained a best validation error of 0.102.\n",
      "Step  1150: Obtained a best validation error of 0.101.\n",
      "Step  1200: Obtained a best validation error of 0.100.\n",
      "Step  1250: Obtained a best validation error of 0.100.\n",
      "Step  1350: Obtained a best validation error of 0.096.\n",
      "Step  1400: Obtained a best validation error of 0.095.\n",
      "Step  1550: Obtained a best validation error of 0.095.\n",
      "Step  1600: Obtained a best validation error of 0.093.\n",
      "Step  1650: Obtained a best validation error of 0.092.\n",
      "Step  1700: Obtained a best validation error of 0.092.\n",
      "Step  1900: Obtained a best validation error of 0.090.\n",
      "Step  2100: Obtained a best validation error of 0.088.\n",
      "Step  2300: Obtained a best validation error of 0.087.\n",
      "Step  2550: Obtained a best validation error of 0.086.\n",
      "Step  2700: Obtained a best validation error of 0.085.\n",
      "Step  2850: Obtained a best validation error of 0.084.\n",
      "Step  3000: Obtained a best validation error of 0.080.\n",
      "Step  3500: Obtained a best validation error of 0.080.\n",
      "Step  3550: Obtained a best validation error of 0.079.\n",
      "Step  3700: Obtained a best validation error of 0.077.\n",
      "Step  3900: Obtained a best validation error of 0.076.\n",
      "Step  4000: Obtained a best validation error of 0.075.\n",
      "Step  4050: Obtained a best validation error of 0.074.\n",
      "Step  4250: Obtained a best validation error of 0.072.\n",
      "Step  4400: Obtained a best validation error of 0.071.\n",
      "Step  4950: Obtained a best validation error of 0.070.\n",
      "[tensor(21.7797, device='cuda:0'), tensor(22.0531, device='cuda:0'), tensor(14.7954, device='cuda:0')]\n",
      "[tensor(2.0881, device='cuda:0'), tensor(2.8085, device='cuda:0'), tensor(2.5416, device='cuda:0')]\n"
     ]
    },
    {
     "data": {
      "image/png": "[encoded data removed]",
      "text/plain": [
       "<Figure size 640x480 with 2 Axes>"
      ]
     },
     "metadata": {},
     "output_type": "display_data"
    }
   ],
   "source": [
    "W_inits = None\n",
    "W_init_norms_f = None\n",
    "W_init_norms_o = None \n",
    "    \n",
    "if pretrain_ratio > 0.0:\n",
    "    print('-------- PRETRAINING ------')\n",
    "    model = Model(layer_dims)\n",
    "    print(model) \n",
    "    to_device(model, device)\n",
    "    run_train(model, layer_dims, data_str = 'mnist', reg_eta=None, dataset_percentage = dataset_percentage, pretraining=True)\n",
    "\n",
    "    W_inits, W_init_norms_f, W_init_norms_o = get_model_weights(model)\n",
    "    print(W_init_norms_f)\n",
    "    print(W_init_norms_o)\n",
    "\n",
    "    state = {\n",
    "        'model': model.state_dict()\n",
    "    }\n",
    "    model_save_path = './COLT_saved/mnist/temp.pth'\n",
    "    torch.save(state, model_save_path)\n"
   ]
  },
  {
   "cell_type": "code",
   "execution_count": 16,
   "id": "051f761e-ac6c-4e08-bdfe-6ae55239ab87",
   "metadata": {
    "colab": {
     "base_uri": "https://localhost:8080/",
     "height": 658
    },
    "id": "051f761e-ac6c-4e08-bdfe-6ae55239ab87",
    "outputId": "a8730289-e42a-40a3-fe23-2ce2972fc252",
    "tags": []
   },
   "outputs": [
    {
     "name": "stdout",
     "output_type": "stream",
     "text": [
      "Initializing\n",
      "Model(\n",
      "  (layer0): Linear(in_features=784, out_features=30, bias=False)\n",
      "  (layer1): Linear(in_features=30, out_features=30, bias=False)\n",
      "  (fc): Linear(in_features=30, out_features=10, bias=False)\n",
      ")\n",
      "Model linked to path : ./COLT_saved/mnist/30_30/base_pretrain_0d15_reg_1d00_datasetp_1d00/weights.pth\n",
      "Pretrain ratio is 0.15\n",
      "Regularization strength with pretrained model is 1.0\n",
      "Learning rate is 0.01\n",
      "Number of training steps is 5000\n",
      "Loading pretrained weights\n",
      "Norms of pretrained weights\n",
      "[tensor(21.7797, device='cuda:0'), tensor(22.0531, device='cuda:0'), tensor(14.7954, device='cuda:0')]\n",
      "[tensor(2.0881, device='cuda:0'), tensor(2.8085, device='cuda:0'), tensor(2.5416, device='cuda:0')]\n",
      "Norms of reinitialized weights loaded from pretraining weights\n",
      "[tensor(21.7801), tensor(22.0497), tensor(14.7956)]\n",
      "[tensor(2.0881), tensor(2.8077), tensor(2.5417)]\n",
      "Model will be saved at ./COLT_saved/mnist/30_30/base_pretrain_0d15_reg_1d00_datasetp_1d00/weights.pth\n",
      "Step     0: Obtained a best validation error of 0.070.\n",
      "Step   100: Obtained a best validation error of 0.068.\n",
      "Step   850: Obtained a best validation error of 0.067.\n",
      "Step  1150: Obtained a best validation error of 0.067.\n",
      "Step  2150: Obtained a best validation error of 0.067.\n",
      "Step  2750: Obtained a best validation error of 0.067.\n",
      "Step  3050: Obtained a best validation error of 0.066.\n",
      "Training plots will be saved at ./COLT_saved/mnist/30_30/base_pretrain_0d15_reg_1d00_datasetp_1d00/training.pdf\n",
      "Frobenius norms of final trained weights : [tensor(21.8344, device='cuda:0'), tensor(22.1100, device='cuda:0'), tensor(14.8531, device='cuda:0')]\n",
      "Operator norms of final trained weights : [tensor(2.0804, device='cuda:0'), tensor(2.8359, device='cuda:0'), tensor(2.5488, device='cuda:0')]\n"
     ]
    },
    {
     "data": {
      "image/png": "[encoded data removed]",
      "text/plain": [
       "<Figure size 640x480 with 2 Axes>"
      ]
     },
     "metadata": {},
     "output_type": "display_data"
    }
   ],
   "source": [
    "# Model (on GPU)\n",
    "# del model \n",
    "\n",
    "model = Model(layer_dims)\n",
    "print(model) \n",
    "\n",
    "model_path = get_path(layer_dims, data_str = 'mnist', prefix_str = 'weights', reg_eta = reg_eta, dataset_percentage = dataset_percentage, pretrain_ratio=pretrain_ratio)\n",
    "print(f'Model linked to path : {model_path}') \n",
    "print(f'Pretrain ratio is {pretrain_ratio}')\n",
    "print(f'Regularization strength with pretrained model is {reg_eta}')\n",
    "print(f'Learning rate is {lr}')\n",
    "print(f'Number of training steps is {num_steps}')\n",
    "\n",
    "if pretrain_ratio == 0.:\n",
    "    assert W_inits is None\n",
    "    assert W_init_norms_f is None\n",
    "    assert W_init_norms_o is None \n",
    "    \n",
    "    print(\"Not using any pretrained weights\")\n",
    "    W_inits, W_init_norms_f, W_init_norms_o = get_model_weights(model)\n",
    "    print(f'Norms of initialization weights')\n",
    "    print(W_init_norms_f)\n",
    "    print(W_init_norms_o) \n",
    "\n",
    "if pretrain_ratio > 0.0:\n",
    "    assert W_inits is not None\n",
    "    assert W_init_norms_f is not None\n",
    "    assert W_init_norms_o is not None \n",
    "    \n",
    "    print(f'Loading pretrained weights')\n",
    "    state = torch.load('./COLT_saved/mnist/temp.pth')\n",
    "    model.load_state_dict(state['model'])\n",
    "    \n",
    "    # this code adds gaussian noise but i dont need this. \n",
    "    for i, layer in enumerate(model.layers):\n",
    "        layer.weight.data *= 1 + 0.001*torch.randn_like(layer.weight.data)\n",
    "    model.fc.weight.data *= 1 + 0.0001*torch.randn_like(model.fc.weight.data)\n",
    "\n",
    "\n",
    "    print(f'Norms of pretrained weights')\n",
    "    print(W_init_norms_f)\n",
    "    print(W_init_norms_o)\n",
    "\n",
    "    print(f'Norms of reinitialized weights loaded from pretraining weights')\n",
    "    _, a, b = get_model_weights(model) \n",
    "    print(a)\n",
    "    print(b)\n",
    "\n",
    "saved=False\n",
    "if saved:\n",
    "    model.load_state_dict(torch.load(model_path, map_location=torch.device('cuda')))\n",
    "    to_device(model, device)\n",
    "else:\n",
    "    to_device(model, device)\n",
    "    run_train(model, layer_dims, data_str = 'mnist', reg_eta=reg_eta, dataset_percentage = dataset_percentage, num_steps=num_steps, lr=lr, pretrain_ratio=pretrain_ratio)\n",
    "\n",
    "W_final, W_final_norms_f, W_final_norms_o = get_model_weights(model)\n",
    "print(f'Frobenius norms of final trained weights : {W_final_norms_f}')\n",
    "print(f'Operator norms of final trained weights : {W_final_norms_o}')"
   ]
  },
  {
   "cell_type": "code",
   "execution_count": 17,
   "id": "70c43590-77a3-480c-a830-ae8ec84fa528",
   "metadata": {},
   "outputs": [
    {
     "name": "stdout",
     "output_type": "stream",
     "text": [
      "Computing difference in initialization vs trained networks\n",
      "\n",
      "In layer 0\n",
      "Final norm is 21.834360122680664\n",
      "Initial norm is 21.7796630859375\n",
      "Total absolute value difference is 12.62239933013916\n",
      "Cumulative difference is -2.6226043701171875e-06\n",
      "Norm of diff is 0.017059428617358208\n",
      "\n",
      "In layer 1\n",
      "Final norm is 22.110034942626953\n",
      "Initial norm is 22.053142547607422\n",
      "Total absolute value difference is 1.0367894172668457\n",
      "Cumulative difference is -0.05193178355693817\n",
      "Norm of diff is 0.0025954153388738632\n",
      "\n",
      "In layer 2\n",
      "Final norm is 14.853137016296387\n",
      "Initial norm is 14.79540729522705\n",
      "Total absolute value difference is 0.4050593674182892\n",
      "Cumulative difference is 1.5534460544586182e-06\n",
      "Norm of diff is 0.0013418112648651004\n"
     ]
    },
    {
     "data": {
      "text/plain": [
       "[tensor(0.0171, device='cuda:0'),\n",
       " tensor(0.0026, device='cuda:0'),\n",
       " tensor(0.0013, device='cuda:0')]"
      ]
     },
     "execution_count": 17,
     "metadata": {},
     "output_type": "execute_result"
    }
   ],
   "source": [
    "W_diff_norms = []\n",
    "print(\"Computing difference in initialization vs trained networks\")\n",
    "for layer_index in range(len(W_inits)):\n",
    "    #if W_final[layer_index].detach().cpu()\n",
    "    print(f'\\nIn layer {layer_index}')\n",
    "    t1 = torch.linalg.matrix_norm(W_final[layer_index], ord='fro')**2\n",
    "    print(f'Final norm is {t1}')\n",
    "    t2 = torch.linalg.matrix_norm(W_inits[layer_index], ord='fro')**2\n",
    "    print(f'Initial norm is {t2}')\n",
    "    t3 = torch.sum(torch.abs(W_final[layer_index]-W_inits[layer_index]))\n",
    "    print(f'Total absolute value difference is {t3}')\n",
    "    t4 = torch.sum(W_final[layer_index]-W_inits[layer_index])\n",
    "    print(f'Cumulative difference is {t4}')\n",
    "    t5 = torch.linalg.matrix_norm(W_final[layer_index]-W_inits[layer_index], ord='fro')**2\n",
    "    print(f'Norm of diff is {t5}')\n",
    "    W_diff_norms.append(t5)\n",
    "\n",
    "W_diff_norms"
   ]
  },
  {
   "cell_type": "markdown",
   "id": "8912fe5a-5f5f-4bf5-9b77-13e7abd24d44",
   "metadata": {
    "id": "8912fe5a-5f5f-4bf5-9b77-13e7abd24d44"
   },
   "source": [
    "## Basic Evaluation \n",
    "- Instatiate batch \n",
    "- test standard accuracy\n",
    "- report discrepancy\n",
    "- Show orthogonal frame loss \n",
    "- Compute Global Parameter Lipschitz Constant \n",
    "- Compute Sparse Regularity"
   ]
  },
  {
   "cell_type": "code",
   "execution_count": 18,
   "id": "ddtmjM2N4-wd",
   "metadata": {
    "colab": {
     "base_uri": "https://localhost:8080/"
    },
    "id": "ddtmjM2N4-wd",
    "outputId": "b6c227c3-c2a7-473a-c6e5-8205391fe685"
   },
   "outputs": [
    {
     "name": "stdout",
     "output_type": "stream",
     "text": [
      "Test error is 0.06420004367828369\n"
     ]
    }
   ],
   "source": [
    "batch_size = 10000\n",
    "x,y = batch_test(batch_size, device=device)\n",
    "x = x.to(device)\n",
    "y = y.to(device)\n",
    "\n",
    "\n",
    "model = model.to(device)\n",
    "model.eval()\n",
    "\n",
    "output = model(x)\n",
    "_, pred = torch.max(output, dim=1)\n",
    "accuracy = (pred == y).float().mean()\n",
    "#print(100*accuracy)\n",
    "test_error = 1 - accuracy\n",
    "print(f'Test error is {test_error}') "
   ]
  },
  {
   "cell_type": "code",
   "execution_count": 19,
   "id": "2a5f8947-a1a9-4ee8-a015-69a87e3f5c99",
   "metadata": {},
   "outputs": [
    {
     "name": "stdout",
     "output_type": "stream",
     "text": [
      "sampling from full data\n",
      "Total Train error is 0.06303638219833374\n",
      "\n",
      "Excluding pretraining\n",
      "Train error is 0.06699460744857788\n"
     ]
    }
   ],
   "source": [
    "batch_size = reduced_dataset_size\n",
    "x,y = batch(dataset_size, device=device, training=True, post_train=True)\n",
    "x = x.to(device)\n",
    "y = y.to(device)\n",
    "\n",
    "model = model.to(device)\n",
    "model.eval()\n",
    "\n",
    "output = model(x)\n",
    "_, pred = torch.max(output, dim=1)\n",
    "accuracy = (pred == y).float().mean()\n",
    "#print(100*accuracy)\n",
    "train_error = 1-accuracy\n",
    "print(f'Total Train error is {train_error}')\n",
    "\n",
    "print(f'\\nExcluding pretraining')\n",
    "restricted_accuracy = (pred[pretrain_size:] == y[pretrain_size:]).float().mean()\n",
    "#print(100*accuracy)\n",
    "restricted_train_error = 1-restricted_accuracy\n",
    "print(f'Train error is {restricted_train_error}')"
   ]
  },
  {
   "cell_type": "code",
   "execution_count": 20,
   "id": "DbhChN3A5g7U",
   "metadata": {
    "colab": {
     "base_uri": "https://localhost:8080/"
    },
    "id": "DbhChN3A5g7U",
    "outputId": "9f3bbe0f-4467-425f-d8ee-46d59b4e58b4"
   },
   "outputs": [
    {
     "data": {
      "text/plain": [
       "tensor(0.0012, device='cuda:0')"
      ]
     },
     "execution_count": 20,
     "metadata": {},
     "output_type": "execute_result"
    }
   ],
   "source": [
    "test_error - train_error"
   ]
  },
  {
   "cell_type": "code",
   "execution_count": 21,
   "id": "14b26f5f-6182-4a1f-9490-da69bf001a0b",
   "metadata": {
    "id": "14b26f5f-6182-4a1f-9490-da69bf001a0b"
   },
   "outputs": [
    {
     "data": {
      "text/plain": [
       "28.0000057220459"
      ]
     },
     "execution_count": 21,
     "metadata": {},
     "output_type": "execute_result"
    }
   ],
   "source": [
    "inp = x.view(x.shape[0],-1)\n",
    "inp_norm = torch.max(torch.norm(inp, dim=1, p=2)).item()\n",
    "inp_norm"
   ]
  },
  {
   "cell_type": "code",
   "execution_count": 22,
   "id": "cff84e8a-eeb8-465d-91c1-e625f73498fb",
   "metadata": {},
   "outputs": [
    {
     "data": {
      "text/plain": [
       "torch.Size([55000, 10])"
      ]
     },
     "execution_count": 22,
     "metadata": {},
     "output_type": "execute_result"
    }
   ],
   "source": [
    "selection = [layer_index for layer_index in range(model.num_layers)]\n",
    "forward_model = ForwardHookModel(model, selection)\n",
    "outputs, layer_outputs = forward_model(x)\n",
    "len(outputs)\n",
    "outputs.shape"
   ]
  },
  {
   "cell_type": "code",
   "execution_count": 23,
   "id": "46bdb646-2373-472b-a4d5-54ae74648173",
   "metadata": {},
   "outputs": [],
   "source": [
    "# del train_images, val_images, train_labels, val_labels, mnist_train"
   ]
  },
  {
   "cell_type": "code",
   "execution_count": 24,
   "id": "87096998-8463-4d23-8c2b-6af6372d8621",
   "metadata": {},
   "outputs": [
    {
     "name": "stdout",
     "output_type": "stream",
     "text": [
      "layer0\n",
      "tensor(27.6599, device='cuda:0', grad_fn=<MaxBackward1>)\n",
      "layer1\n",
      "tensor(33.1911, device='cuda:0', grad_fn=<MaxBackward1>)\n",
      "tensor(29.4030, device='cuda:0', grad_fn=<MaxBackward1>)\n",
      "tensor(19.4761, device='cuda:0', grad_fn=<MaxBackward1>)\n"
     ]
    }
   ],
   "source": [
    "for key in layer_outputs.keys():\n",
    "    print(key)\n",
    "    #print(len(layer_outputs[key]))\n",
    "    print(torch.max(torch.norm(layer_outputs[key], p=2, dim=1)))\n",
    "\n",
    "print(torch.max(torch.norm(outputs,p=2,dim=1)))\n",
    "print(torch.max(outputs))"
   ]
  },
  {
   "cell_type": "code",
   "execution_count": 25,
   "id": "59e9abb7-62ce-4569-8da3-cb3bff0a8122",
   "metadata": {
    "tags": []
   },
   "outputs": [
    {
     "name": "stdout",
     "output_type": "stream",
     "text": [
      "tensor(4.6135, device='cuda:0', grad_fn=<DivBackward0>)\n"
     ]
    }
   ],
   "source": [
    "def compute_margins(): \n",
    "    output = model(x)\n",
    "    margins = []\n",
    "\n",
    "    for input_index in range(dataset_size):\n",
    "        if input_index < pretrain_size:\n",
    "            continue\n",
    "        target_label = y[input_index]\n",
    "        target_output = output[input_index][target_label]\n",
    "        temp = output[input_index].clone() \n",
    "        temp[target_label] = float(\"-inf\")\n",
    "        #print(torch.max(temp))\n",
    "        margins.append(target_output - torch.max(temp.detach().cpu()))\n",
    "\n",
    "    return margins\n",
    "\n",
    "margins = compute_margins()\n",
    "assert batch_size == len(margins)\n",
    "print(sum(margins)/batch_size)"
   ]
  },
  {
   "cell_type": "markdown",
   "id": "63d2c881-4427-4c97-9002-1a0b59257a92",
   "metadata": {
    "id": "63d2c881-4427-4c97-9002-1a0b59257a92"
   },
   "source": [
    "## Parameter Lipschitz Constant \n",
    "- Global Parameter Lipschitz Bound\n",
    "- Sparse Regularity Lipschitz Bound"
   ]
  },
  {
   "cell_type": "code",
   "execution_count": 26,
   "id": "c7708664-5d56-44b2-b05a-bc46f809440d",
   "metadata": {
    "id": "c7708664-5d56-44b2-b05a-bc46f809440d"
   },
   "outputs": [],
   "source": [
    "def get_intermediate_norms():\n",
    "    layer_reduced_babel = []\n",
    "    layer_reduced_row_norms = []\n",
    "    \n",
    "    for layer_index in range(model.num_layers):\n",
    "        print(f'Layer {layer_index}')\n",
    "        W = getattr(model, f'layer{layer_index}').weight.detach()\n",
    "        W_row_norm = torch.norm(W, p=2, dim=1)\n",
    "        row_norms_sp = [0]*W.shape[1]\n",
    "        print('computing row-norms')\n",
    "        if layer_index == 0:\n",
    "            row_norms_sp = [torch.max(W_row_norm).item()]*W.shape[1]\n",
    "        else:\n",
    "            sorted_hadamard = torch.sort(W*W, dim = 1, descending = True).values\n",
    "                \n",
    "            for s_in in range(W.shape[1]):\n",
    "                row_norms_sp[s_in] = torch.sqrt(torch.max(torch.sum(sorted_hadamard[:, :W.shape[1]-s_in], dim=1))).item()\n",
    "                \n",
    "        # need to calculate mu_(s_out, s_in) (W). \n",
    "        # 1) for each w_i and w_j first compute max_{J_in} |w_i[J_in]^w_j[J_in]|\n",
    "        # 2) for each w_i, compute sum of top-k of max_{J_in} |w_i[J_in]^w_j[J_in]| across j's not eq to i. \n",
    "        # 3) take max over w_i. \n",
    "        print('computing pos,neg tensors')\n",
    "        pos_1 = torch.zeros(W.shape[0], W.shape[0], W.shape[1])\n",
    "        neg_1 = torch.zeros(W.shape[0], W.shape[0], W.shape[1])\n",
    "        for i in range(W.shape[0]):\n",
    "                for j in range(W.shape[0]):\n",
    "                    if i==j: continue\n",
    "                    \n",
    "                    pos_1[i,j] = torch.abs(torch.sort(W[i]*W[j], descending = True).values)\n",
    "                    neg_1[i,j] = torch.abs(torch.sort(-W[i]*W[j], descending = True).values)\n",
    "        \n",
    "        print('computing reduced babel')\n",
    "        reduced_babel = torch.zeros(W.shape[0], W.shape[1])\n",
    "        for s_in in range(W.shape[1]):\n",
    "            if s_in % 25 == 0:\n",
    "                print(f'At input sparsity level {s_in}')\n",
    "            \n",
    "            # max reduced has shape torch.zeros(W.shape[0], W.shape[0])\n",
    "            max_reduced_row_ip = torch.maximum(torch.sum(pos_1[:,:,:W.shape[1]-s_in], dim=2), torch.sum(neg_1[:,:, :W.shape[1]-s_in], dim=2)) \n",
    "            cumulative_reduced_row = torch.sort(max_reduced_row_ip, dim=1, descending=True).values\n",
    "            \n",
    "            for s_out in range(W.shape[0]-1):\n",
    "                gerschgorin_radius = torch.sum(cumulative_reduced_row[:, :W.shape[0]-s_out-1], dim=1)\n",
    "                reduced_babel[s_out, s_in] = torch.max(gerschgorin_radius)/(row_norms_sp[s_in]**2)\n",
    "            \n",
    "        \n",
    "        layer_reduced_babel.append(reduced_babel.detach().cpu().numpy())\n",
    "        layer_reduced_row_norms.append(row_norms_sp)\n",
    "        \n",
    "    W = getattr(model, 'fc').weight\n",
    "    row_norms_sp = [0]*W.shape[1]\n",
    "    sorted_hadamard = torch.sort(W*W, dim = 1, descending = True).values\n",
    "    for s_in in range(W.shape[1]):\n",
    "        row_norms_sp[s_in] = torch.sqrt(torch.max(torch.sum(sorted_hadamard[:, :W.shape[1]-s_in], dim=1))).item()\n",
    "        \n",
    "    layer_reduced_row_norms.append(row_norms_sp) \n",
    "    \n",
    "    return layer_reduced_row_norms, layer_reduced_babel"
   ]
  },
  {
   "cell_type": "code",
   "execution_count": 27,
   "id": "-luQ9MLFDymN",
   "metadata": {
    "collapsed": true,
    "id": "-luQ9MLFDymN",
    "jupyter": {
     "outputs_hidden": true
    },
    "tags": []
   },
   "outputs": [
    {
     "name": "stdout",
     "output_type": "stream",
     "text": [
      "Layer 0\n",
      "computing row-norms\n",
      "computing pos,neg tensors\n",
      "computing reduced babel\n",
      "At input sparsity level 0\n",
      "At input sparsity level 25\n",
      "At input sparsity level 50\n",
      "At input sparsity level 75\n",
      "At input sparsity level 100\n",
      "At input sparsity level 125\n",
      "At input sparsity level 150\n",
      "At input sparsity level 175\n",
      "At input sparsity level 200\n",
      "At input sparsity level 225\n",
      "At input sparsity level 250\n",
      "At input sparsity level 275\n",
      "At input sparsity level 300\n",
      "At input sparsity level 325\n",
      "At input sparsity level 350\n",
      "At input sparsity level 375\n",
      "At input sparsity level 400\n",
      "At input sparsity level 425\n",
      "At input sparsity level 450\n",
      "At input sparsity level 475\n",
      "At input sparsity level 500\n",
      "At input sparsity level 525\n",
      "At input sparsity level 550\n",
      "At input sparsity level 575\n",
      "At input sparsity level 600\n",
      "At input sparsity level 625\n",
      "At input sparsity level 650\n",
      "At input sparsity level 675\n",
      "At input sparsity level 700\n",
      "At input sparsity level 725\n",
      "At input sparsity level 750\n",
      "At input sparsity level 775\n",
      "Layer 1\n",
      "computing row-norms\n",
      "computing pos,neg tensors\n",
      "computing reduced babel\n",
      "At input sparsity level 0\n",
      "At input sparsity level 25\n"
     ]
    }
   ],
   "source": [
    "layer_reduced_row_norms, layer_reduced_babel = get_intermediate_norms()"
   ]
  },
  {
   "cell_type": "code",
   "execution_count": 28,
   "id": "itr47k-IVmKt",
   "metadata": {
    "id": "itr47k-IVmKt"
   },
   "outputs": [],
   "source": [
    "def findnearest(list, threshold):\n",
    "    low = 0\n",
    "    high = len(list) - 1\n",
    "\n",
    "    if list[high] < threshold:\n",
    "        return -1, -1, -1\n",
    "\n",
    "    while low < high:\n",
    "        if (low == high - 1) and (list[low] <= threshold) and (list[high] >= threshold):\n",
    "            break \n",
    "\n",
    "        middle = low + (high - low) // 2\n",
    "\n",
    "        if list[middle] > threshold:\n",
    "            high = middle - 1   \n",
    "        elif list[middle] < threshold:\n",
    "            low = middle + 1\n",
    "    \n",
    "    #print(f'Wanted value in list close to {threshold}, and got {list[high]}')\n",
    "    return high, list[high], list[high]-threshold"
   ]
  },
  {
   "cell_type": "code",
   "execution_count": 29,
   "id": "oyZPRzb8TnRC",
   "metadata": {
    "id": "oyZPRzb8TnRC"
   },
   "outputs": [],
   "source": [
    "num_eta = 100\n",
    "eta_grid = np.linspace(0,1,num_eta)\n",
    "\n",
    "def get_eta(): \n",
    "    layer_etas = [] \n",
    "    for layer_index in range(model.num_layers):\n",
    "        print(f'Finding eta matrix at layer {layer_index}')\n",
    "        reduced_babel = layer_reduced_babel[layer_index] \n",
    "        W = getattr(model, f'layer{layer_index}').weight.detach().cpu()\n",
    "        eta = torch.zeros(W.shape[0], W.shape[1])\n",
    "        diff = torch.zeros(W.shape[0], W.shape[1])\n",
    "        \n",
    "        for s_out in range(W.shape[0]-1):\n",
    "            for s_in in range(W.shape[1]):\n",
    "                normalized_babel = reduced_babel[s_out, s_in]/(W.shape[0]-s_out-1)\n",
    "                if normalized_babel > 1:\n",
    "                    raise ValueError(f'Warning something seriously wrong for ({s_out, s_in}) with normalized_babel {normalized_babel}')\n",
    "                \n",
    "                _, normalized_eta, diff[s_out,s_in] = findnearest(eta_grid, normalized_babel)\n",
    "                eta[s_out, s_in] = normalized_eta*(W.shape[0]-s_out-1)\n",
    "        layer_etas.append(eta) \n",
    "        print(f'At layer {layer_index}, the max diff is {torch.max(diff)}')\n",
    "    return layer_etas \n",
    "    "
   ]
  },
  {
   "cell_type": "code",
   "execution_count": 30,
   "id": "3nIYDOL2XBDb",
   "metadata": {
    "colab": {
     "base_uri": "https://localhost:8080/"
    },
    "id": "3nIYDOL2XBDb",
    "outputId": "c7efb700-b2ba-445f-bab2-bb798a2f5868"
   },
   "outputs": [
    {
     "name": "stdout",
     "output_type": "stream",
     "text": [
      "Finding eta matrix at layer 0\n",
      "At layer 0, the max diff is 0.010098944418132305\n",
      "Finding eta matrix at layer 1\n",
      "At layer 1, the max diff is 0.01009005680680275\n"
     ]
    }
   ],
   "source": [
    "layer_etas = get_eta()"
   ]
  },
  {
   "cell_type": "code",
   "execution_count": 31,
   "id": "014884f4-462b-44e4-8bcc-d128b0fb962b",
   "metadata": {
    "id": "014884f4-462b-44e4-8bcc-d128b0fb962b"
   },
   "outputs": [],
   "source": [
    "def get_zetas(sparsity_levels, verbose=False):\n",
    "    layer_zetas = [] \n",
    "    assert len(sparsity_levels) <= len(layer_dims)\n",
    "    \n",
    "    current = 1.0 * inp_norm\n",
    "    if verbose: \n",
    "        print(\"Inside zeta function\")\n",
    "        print(f'sparsity levels are {sparsity_levels}')\n",
    "        print(f'{len(sparsity_levels)}')\n",
    "    \n",
    "    for layer_index in range(len(sparsity_levels)):\n",
    "        s_in = 0\n",
    "        if layer_index > 0:\n",
    "            s_in = sparsity_levels[layer_index-1]\n",
    "        s_out = sparsity_levels[layer_index]\n",
    "\n",
    "        row_scale = layer_reduced_row_norms[layer_index][s_in] * np.sqrt(1 + layer_etas[layer_index][s_out, s_in])\n",
    "        current *= row_scale\n",
    "        layer_zetas.append(current)\n",
    "        \n",
    "        if verbose:  \n",
    "            print(f'Layer index is {layer_index} with sparsity {sparsity_levels[layer_index]}')\n",
    "            print(layer_reduced_row_norms[layer_index][s_in])\n",
    "            print(np.sqrt(1 + layer_etas[layer_index][s_out, s_in]))\n",
    "            print(f'row reduced norm is {layer_reduced_row_norms[layer_index][s_in]}')\n",
    "            print(f'babel function is {layer_etas[layer_index][s_out, s_in]}')\n",
    "            print(f'row scale is {row_scale}')\n",
    "        \n",
    "    \n",
    "    temp = 1.0 \n",
    "    if len(sparsity_levels) == len(layer_dims):\n",
    "        temp = layer_reduced_row_norms[len(layer_dims)][sparsity_levels[-1]]\n",
    "        layer_zetas.append(current*temp)\n",
    "        \n",
    "    return layer_zetas, current*temp  "
   ]
  },
  {
   "cell_type": "code",
   "execution_count": 32,
   "id": "aea2d192-d55f-49fe-b21f-c2bf4a9c7e09",
   "metadata": {
    "tags": []
   },
   "outputs": [
    {
     "name": "stdout",
     "output_type": "stream",
     "text": [
      "Sparse local Lipschitz scale plot will be saved at ./COLT_saved/mnist/30_30/base_pretrain_0d15_reg_1d00_datasetp_1d00/lipschitz.pdf\n"
     ]
    },
    {
     "data": {
      "image/png": "[encoded data removed]",
      "text/plain": [
       "<Figure size 600x600 with 1 Axes>"
      ]
     },
     "metadata": {},
     "output_type": "display_data"
    }
   ],
   "source": [
    "def plot_lip():\n",
    "    num_ratios = 20\n",
    "    s_ratios = np.linspace(0,0.99,num_ratios)\n",
    "    lip = [0]*num_ratios \n",
    "\n",
    "    for (index,s) in enumerate(s_ratios):\n",
    "        s_levels = []\n",
    "        for d in layer_dims:\n",
    "            s_levels.append(int(s*d))\n",
    "        _, lip[index] = get_zetas(s_levels) # [s]*len(layer_dims)\n",
    "    \n",
    "    plot_path = get_path(layer_dims, data_str = 'mnist', prefix_str = 'lipschitz', reg_eta = reg_eta, dataset_percentage=dataset_percentage, pretrain_ratio=pretrain_ratio)\n",
    "    print(f'Sparse local Lipschitz scale plot will be saved at {plot_path}')            \n",
    "    fig, ax = plt.subplots(figsize=(6, 6))\n",
    "    ax.plot(s_ratios[0:], lip[0:], color='red')\n",
    "    plt.xlabel('Sparsity ratio')\n",
    "    plt.ylabel('Sparse Lipschitz scale')\n",
    "    plt.title('Sparse Lipschitz scale vs sparsity levels') \n",
    "    plt.savefig(plot_path, bbox_inches=\"tight\")\n",
    "        \n",
    "plot_lip()"
   ]
  },
  {
   "cell_type": "code",
   "execution_count": 33,
   "id": "7SlNqZHLhAXV",
   "metadata": {
    "id": "7SlNqZHLhAXV"
   },
   "outputs": [],
   "source": [
    "# Steps to compute bounds on generalization error \n",
    "# for layer k, input x, sparsity level s_k, s_{k-1}\n",
    "# find sparse local radius r_k \n",
    "# Set radius thresholds based on epsilon. \n",
    "# for a fixed epsilon and an input, find maximal sparsity that satisfies it\n",
    "# collect this across a batch of inputs \n",
    "# find quantiles based on alpha parameter. this gives controlled sparse loss (Verify this). \n",
    "# find margin at each input and set margin threshold. Evaluate margin risk w.r.t alpha-chosen sparsity level and epsilon. \n",
    "# find kl divergence/concentration terms. To do so, first define sigma-posterior and sigma-prior and evaluate the bound by adding up the expressions. \n",
    "# final bound = empirical risk + controlled sparse risk + concentration + kldivergence. \n",
    "# search for best epsilon and alpha. \n"
   ]
  },
  {
   "cell_type": "code",
   "execution_count": 34,
   "id": "o29TxNpwdBEk",
   "metadata": {
    "id": "o29TxNpwdBEk"
   },
   "outputs": [],
   "source": [
    "def layer_normalized_act(input_index, layer_index, sparsity_levels):\n",
    "    # print(f'input index is {input_index}, layer_index is {layer_index} and sparsity levels are {sparsity_levels}')\n",
    "    \n",
    "    assert layer_index <= len(layer_dims) - 1\n",
    "    assert len(sparsity_levels) == layer_index  \n",
    "    \n",
    "    if layer_index == 0:\n",
    "        s_in = 0 \n",
    "        zeta_in = inp_norm\n",
    "    else: \n",
    "        s_in = sparsity_levels[-1] \n",
    "        _, zeta_in = get_zetas(sparsity_levels)\n",
    "    \n",
    "    row_norm = layer_reduced_row_norms[layer_index][s_in]\n",
    "    \n",
    "    current_key = f'layer{layer_index}'\n",
    "    l_out = layer_outputs[current_key][input_index]\n",
    "\n",
    "    denominator = row_norm * zeta_in  \n",
    "    normalized_out = l_out.div(denominator)\n",
    "    return normalized_out "
   ]
  },
  {
   "cell_type": "code",
   "execution_count": 62,
   "id": "Pu0io20-yV-T",
   "metadata": {
    "id": "Pu0io20-yV-T"
   },
   "outputs": [],
   "source": [
    "def layer_radius(input_index, layer_index, sparsity_levels):\n",
    "    # print(f'Before calling normalized_act, input_index is {input_index}, layer_index is {layer_index} and sparsity vector is {sparsity_levels}')\n",
    "    normalized_out = layer_normalized_act(input_index, layer_index, sparsity_levels[:-1])\n",
    "    s_out = sparsity_levels[-1]\n",
    "    if s_out == 0:\n",
    "        sparse_radius = np.inf \n",
    "    else:\n",
    "        sparse_radius = max(torch.sort(-normalized_out, descending=True).values[s_out-1].item(),0)\n",
    "\n",
    "    return sparse_radius "
   ]
  },
  {
   "cell_type": "code",
   "execution_count": 36,
   "id": "Wsc_kxIwdBdy",
   "metadata": {
    "colab": {
     "base_uri": "https://localhost:8080/"
    },
    "id": "Wsc_kxIwdBdy",
    "outputId": "60d691e0-3bc0-4360-f956-409049d0eb0b",
    "tags": []
   },
   "outputs": [
    {
     "name": "stdout",
     "output_type": "stream",
     "text": [
      "Sparse local radius plot at layer 0 will be saved at ./COLT_saved/mnist/30_30/base_pretrain_0d15_reg_1d00_datasetp_1d00/radius_layer0.pdf\n",
      "Sparse local radius plot at layer 1 will be saved at ./COLT_saved/mnist/30_30/base_pretrain_0d15_reg_1d00_datasetp_1d00/radius_layer1.pdf\n"
     ]
    },
    {
     "data": {
      "image/png": "[encoded data removed]",
      "text/plain": [
       "<Figure size 600x600 with 1 Axes>"
      ]
     },
     "metadata": {},
     "output_type": "display_data"
    },
    {
     "data": {
      "image/png": "[encoded data removed]",
      "text/plain": [
       "<Figure size 600x600 with 1 Axes>"
      ]
     },
     "metadata": {},
     "output_type": "display_data"
    }
   ],
   "source": [
    "def plot_radius():\n",
    "    num_examples = 1000\n",
    "    num_layers = len(layer_dims) \n",
    "    num_ratios = 50\n",
    "    all_radius = np.zeros((num_examples, num_ratios, num_layers))\n",
    "    batch_sd = np.zeros((num_ratios, num_layers))\n",
    "    batch_mean = np.zeros((num_ratios, num_layers))\n",
    "    s_ratios = np.linspace(0,0.99,num_ratios)\n",
    "    \n",
    "    sparsity_stencil = []\n",
    "    for j in range(num_ratios):\n",
    "        s_levels = []\n",
    "        for k in range(num_layers):\n",
    "            s_levels.append(int(s_ratios[j]*layer_dims[k]))\n",
    "        \n",
    "        sparsity_stencil.append(s_levels)  \n",
    "    \n",
    "    for i in range(num_examples):\n",
    "        for j in range(num_ratios):\n",
    "            for k in range(num_layers):\n",
    "                all_radius[i, j, k] = layer_radius(i, k, sparsity_stencil[j][:k+1])\n",
    "    \n",
    "    for k in range(num_layers):\n",
    "        batch_sd[:,k] = all_radius[:,:,k].std(axis=0)\n",
    "        batch_mean[:,k] = all_radius[:,:,k].mean(axis=0)   \n",
    "    \n",
    "    for k in range(num_layers):\n",
    "        plot_path = get_path(layer_dims, data_str = 'mnist', prefix_str = 'radius', layer_index=k, reg_eta = reg_eta, dataset_percentage=dataset_percentage, pretrain_ratio=pretrain_ratio)\n",
    "        print(f'Sparse local radius plot at layer {k} will be saved at {plot_path}')            \n",
    "        fig, ax = plt.subplots(figsize=(6, 6))\n",
    "        ax.errorbar(s_ratios[1:], batch_mean[1:, k], yerr=batch_sd[1:, k], label='Average sparse local radius', color='red')\n",
    "        ax.fill_between(s_ratios[1:], batch_mean[1:, k]-batch_sd[1:, k], batch_mean[1:, k]+batch_sd[1:, k], color='yellow', alpha=0.15)\n",
    "        plt.title(f'Sparse local radius at Layer {k} vs sparsity ratio (across training data)')\n",
    "        plt.ylabel(r'Sparse local radius')\n",
    "        plt.xlabel(f'Sparsity ratio at each layer upto layer {k}')\n",
    "        plt.savefig(plot_path, bbox_inches=\"tight\")\n",
    "        \n",
    "plot_radius()"
   ]
  },
  {
   "cell_type": "code",
   "execution_count": 37,
   "id": "kQpx9BK5dBgC",
   "metadata": {
    "id": "kQpx9BK5dBgC"
   },
   "outputs": [
    {
     "data": {
      "text/plain": [
       "3"
      ]
     },
     "execution_count": 37,
     "metadata": {},
     "output_type": "execute_result"
    }
   ],
   "source": [
    "depth = len(layer_dims)+1\n",
    "depth"
   ]
  },
  {
   "cell_type": "code",
   "execution_count": 38,
   "id": "qbOoV7tqlhEM",
   "metadata": {
    "id": "qbOoV7tqlhEM"
   },
   "outputs": [],
   "source": [
    "def get_radius_thresholds(epsilon):\n",
    "    gammas = []\n",
    "    layer_epsilons = [] \n",
    "    gamma_prev = 0.0\n",
    "    \n",
    "    for layer_index in range(depth):\n",
    "        eps_current = epsilon/(depth-layer_index)\n",
    "        layer_epsilons.append(eps_current)\n",
    "        \n",
    "        gamma_prev = (1+eps_current)*gamma_prev + eps_current\n",
    "        gammas.append(gamma_prev)\n",
    "    \n",
    "    return layer_epsilons, gammas"
   ]
  },
  {
   "cell_type": "code",
   "execution_count": 39,
   "id": "oaJJg60xyQ46",
   "metadata": {
    "id": "oaJJg60xyQ46"
   },
   "outputs": [],
   "source": [
    "def greedy_sparsity_vector(input_index, epsilon): \n",
    "    sparsity_vector = [] \n",
    "    _, gammas = get_radius_thresholds(epsilon)\n",
    "    #print(gammas)\n",
    "\n",
    "    for layer_index in range(depth-1):\n",
    "        normalized_out = layer_normalized_act(input_index, layer_index, sparsity_vector)\n",
    "        sorted_out = torch.sort(-normalized_out).values\n",
    "        threshold = 3*gammas[layer_index]    #-1 + (1 + (epsilon))**(layer_index + 1)\n",
    "        high, radius, diff = findnearest(sorted_out, threshold)\n",
    "        if high == -1:\n",
    "            s = 0\n",
    "        else: \n",
    "            s = len(normalized_out) - high \n",
    "        sparsity_vector.append(s) \n",
    "    \n",
    "    return sparsity_vector"
   ]
  },
  {
   "cell_type": "code",
   "execution_count": 40,
   "id": "Kq8aXrSBdBiO",
   "metadata": {
    "id": "Kq8aXrSBdBiO"
   },
   "outputs": [],
   "source": [
    "def collect_greedy(epsilon):\n",
    "    greedy_sparsity_batch = np.zeros((batch_size, len(layer_dims)), dtype='i') \n",
    "    \n",
    "    for input_index in range(batch_size):\n",
    "        #print(f'Processing input {input_index}')\n",
    "        greedy_sparsity_batch[input_index] = greedy_sparsity_vector(input_index, epsilon)\n",
    "    \n",
    "    return greedy_sparsity_batch"
   ]
  },
  {
   "cell_type": "code",
   "execution_count": 60,
   "id": "9JzRoVw385gd",
   "metadata": {
    "id": "9JzRoVw385gd"
   },
   "outputs": [],
   "source": [
    "def collect_greedy_relax(epsilon, alpha, greedy_sparsity_batch = None):\n",
    "    if greedy_sparsity_batch is None:\n",
    "        greedy_sparsity_batch = collect_greedy(epsilon) \n",
    "    \n",
    "    relaxed_sparsity = np.zeros(len(layer_dims),  dtype='i')\n",
    "    for layer_index in range(len(layer_dims)):\n",
    "        relaxed_sparsity[layer_index] = int(np.quantile(greedy_sparsity_batch[: , layer_index], 2*alpha/(depth * (depth-1))).astype(int))\n",
    "    \n",
    "    #relaxed_sparsity = [for x in relaxed_sparsity:\n",
    "    return greedy_sparsity_batch, relaxed_sparsity    "
   ]
  },
  {
   "cell_type": "code",
   "execution_count": 42,
   "id": "CsO8TP9LRLPm",
   "metadata": {
    "id": "CsO8TP9LRLPm"
   },
   "outputs": [
    {
     "data": {
      "text/plain": [
       "46750"
      ]
     },
     "execution_count": 42,
     "metadata": {},
     "output_type": "execute_result"
    }
   ],
   "source": [
    "batch_size"
   ]
  },
  {
   "cell_type": "code",
   "execution_count": 43,
   "id": "HNsRRMfSgSuF",
   "metadata": {
    "id": "HNsRRMfSgSuF"
   },
   "outputs": [],
   "source": [
    "def variance_normalization(d_in, d_out, s_in, s_out, delta, verbose=False):\n",
    "    if verbose: \n",
    "        print('Inside variance normalization')\n",
    "    expected_value = math.sqrt(d_out-s_out) + math.sqrt(d_in-s_in)\n",
    "    deviation = math.sqrt(2)*math.sqrt(math.log( math.comb(d_in,s_in) ) + math.log( math.comb(d_out,s_out)) + math.log(1/delta))\n",
    "    if verbose: \n",
    "        print(f'expected_value is {expected_value}')\n",
    "        print(f'deviation is {deviation}')\n",
    "    return expected_value + deviation "
   ]
  },
  {
   "cell_type": "code",
   "execution_count": 44,
   "id": "7RzY9E1VRLXJ",
   "metadata": {
    "id": "7RzY9E1VRLXJ"
   },
   "outputs": [],
   "source": [
    "def get_variance(sparsity_vector, layer_epsilons, verbose=False):\n",
    "    sigma_prior = torch.zeros(len(layer_dims)+1) \n",
    "    sigma_posterior = torch.zeros(len(layer_dims)+1)\n",
    "    delta = 1/(depth * math.sqrt(batch_size))\n",
    "\n",
    "    for layer_index in range(len(layer_dims)+1):\n",
    "        eps_current = layer_epsilons[layer_index] \n",
    "        if layer_index == 0:\n",
    "            d_in = 784\n",
    "            s_in = 0\n",
    "            d_out = layer_dims[0] \n",
    "            s_out = sparsity_vector[0]\n",
    "        elif layer_index == len(layer_dims):\n",
    "            d_in = layer_dims[-1]\n",
    "            s_in = sparsity_vector[-1]\n",
    "            d_out = 10 \n",
    "            s_out = 0\n",
    "        else:\n",
    "            d_in = layer_dims[layer_index-1]\n",
    "            s_in = sparsity_vector[layer_index-1]\n",
    "            d_out = layer_dims[layer_index] \n",
    "            s_out = sparsity_vector[layer_index]\n",
    "        \n",
    "        d_eff_1 = variance_normalization(d_in, d_out, s_in, s_out, delta)\n",
    "        d_eff_2 = variance_normalization(d_in, d_out, s_in, d_out-1, delta)\n",
    "        if verbose: \n",
    "            print(f'd_in = {d_in}, d_out = {d_out}, s_in = {s_in}, s_out = {s_out}, epsilon_k = {eps_current}, delta= {delta}')\n",
    "            print(f'effective dimensions are {d_eff_1} and {d_eff_2}')\n",
    "        \n",
    "        babel = 1.0\n",
    "        if layer_index < len(layer_dims):\n",
    "            babel = math.sqrt(1+layer_reduced_babel[layer_index][s_out, s_in])\n",
    "        \n",
    "        sparse_norm = layer_reduced_row_norms[layer_index][s_in]* babel\n",
    "        row_norm = layer_reduced_row_norms[layer_index][s_in]\n",
    "        \n",
    "        if verbose: \n",
    "            print(f'full frobenius norm is {W_final_norms_f[layer_index]} and full operator norm is {W_final_norms_o[layer_index]}')\n",
    "            print(f'sparse norm is {sparse_norm} and row_norm is {row_norm}')\n",
    "        \n",
    "        v_1 = layer_reduced_row_norms[layer_index][s_in]* babel/ d_eff_1\n",
    "        v_2 = layer_reduced_row_norms[layer_index][s_in]/ d_eff_2\n",
    "        \n",
    "        if verbose: \n",
    "            print(f'v1 is {v_1}, v2 is {v_2}')\n",
    "        sigma_prior[layer_index] = min(v_1, v_2)\n",
    "        sigma_posterior[layer_index] = eps_current * sigma_prior[layer_index] \n",
    "    \n",
    "    return sigma_prior, sigma_posterior \n",
    "\n"
   ]
  },
  {
   "cell_type": "code",
   "execution_count": 45,
   "id": "N_NQQ0JnYKaJ",
   "metadata": {
    "colab": {
     "base_uri": "https://localhost:8080/"
    },
    "id": "N_NQQ0JnYKaJ",
    "outputId": "b8f8f04b-cf78-40f0-a445-5a9d42e26ae1"
   },
   "outputs": [],
   "source": [
    "#sigma_prior, sigma_posterior = get_variance([350, 150], 0.001)\n",
    "#print(sigma_prior) "
   ]
  },
  {
   "cell_type": "code",
   "execution_count": 46,
   "id": "oRoDw6MOk0r7",
   "metadata": {
    "id": "oRoDw6MOk0r7"
   },
   "outputs": [],
   "source": [
    "def layer_KL(layer_index, sigma, epsilon, verbose=False):\n",
    "        if verbose: \n",
    "            print(f'\\n Inside Layer KL, called with layer_ind : {layer_index}, sigma: {sigma}, epsilon: {epsilon}' )\n",
    "        \n",
    "        if layer_index == depth-1:\n",
    "            key = 'fc'\n",
    "        else:\n",
    "            key = f'layer{layer_index}'\n",
    "        \n",
    "        W = getattr(model, key).weight.detach()\n",
    "        W_fnorm = (W_diff_norms[layer_index])**2\n",
    "        d1 = W.shape[0]\n",
    "        d2 = W.shape[1]\n",
    "        t= (torch.linalg.matrix_norm(W, ord='fro'))**2\n",
    "        KL = W_fnorm/(2*(epsilon**2)*(sigma**2))\n",
    "        KL_pc = W_fnorm/(2*(sigma**2)) + (d1*d2)*(epsilon**2 -0.5 + math.log(1/epsilon)) \n",
    "        \n",
    "        if verbose: \n",
    "            print(f'W_fnorm is {W_fnorm}')\n",
    "            print(f'Full norm was {t}')\n",
    "            print(f'non PC KL divergence is {KL}')\n",
    "            print(f'Parametercounting divergence is {KL_pc}')\n",
    "        \n",
    "        pc = False # Only set it to true if curious how the bound looks with parameter counting. \n",
    "        if pc:\n",
    "            if verbose: print('returning PC div')\n",
    "            return KL_pc\n",
    "        else:\n",
    "            if verbose: print('returning non PC div')\n",
    "            return KL"
   ]
  },
  {
   "cell_type": "code",
   "execution_count": 47,
   "id": "603c8672-7d1a-4d3e-ba7f-907c37bcf6f8",
   "metadata": {},
   "outputs": [
    {
     "data": {
      "text/plain": [
       "3"
      ]
     },
     "execution_count": 47,
     "metadata": {},
     "output_type": "execute_result"
    }
   ],
   "source": [
    "depth"
   ]
  },
  {
   "cell_type": "code",
   "execution_count": 6,
   "id": "UYtnK_wWJWIn",
   "metadata": {
    "id": "UYtnK_wWJWIn",
    "tags": []
   },
   "outputs": [],
   "source": [
    "eps_grid = np.linspace(epsilon_min, epsilon_max, num_epsilon)\n",
    "alpha_grid = np.linspace(alpha_min, alpha_max, num_alpha)"
   ]
  },
  {
   "cell_type": "code",
   "execution_count": 50,
   "id": "4f880645-b454-4540-b270-e261389e5e7d",
   "metadata": {},
   "outputs": [
    {
     "data": {
      "text/plain": [
       "array([0.001, 0.112, 0.223, 0.334, 0.445, 0.556, 0.667, 0.778, 0.889,\n",
       "       1.   ])"
      ]
     },
     "execution_count": 50,
     "metadata": {},
     "output_type": "execute_result"
    }
   ],
   "source": [
    "alpha_grid"
   ]
  },
  {
   "cell_type": "code",
   "execution_count": 51,
   "id": "299d4cda-d749-4007-9d3e-d43e6bf48bd8",
   "metadata": {},
   "outputs": [],
   "source": [
    "cum_sensitivity = np.zeros((num_epsilon, depth))\n",
    "layerwise_epsilons = np.zeros((num_epsilon, depth)) \n",
    "\n",
    "zero_sparse_grid = np.zeros((num_epsilon))\n",
    "bound_concentration_2 = np.zeros((num_epsilon))\n",
    "bound_full_scale = np.zeros((num_epsilon))\n",
    "bound_full_empirical_risk = np.zeros((num_epsilon))\n",
    "bound_full_variance = np.zeros((num_epsilon, depth))\n",
    "    \n",
    "greedy_sparsity_eps_grid = np.zeros((num_epsilon, batch_size, len(layer_dims)), dtype='i')\n",
    "greedy_relaxed_sparsity_eps_alpha_grid = np.zeros((num_epsilon, num_alpha, len(layer_dims)), dtype='i')\n",
    "generalization_grid = np.zeros((num_epsilon, num_alpha))\n",
    "sparse_empirical_risk = np.zeros((num_epsilon, num_alpha))\n",
    "bound_sparse_kl_divergence = np.zeros((num_epsilon, num_alpha))\n",
    "bound_sparse_margin_scale = np.zeros((num_epsilon, num_alpha))\n",
    "bound_sparse_loss = np.zeros((num_epsilon, num_alpha))\n",
    "bound_sparse_variance = np.zeros((num_epsilon, depth))\n",
    "     \n",
    "alpha_sparse_vecs = np.zeros((num_alpha, len(layer_dims)), dtype='i')\n",
    "for alpha_index in range(num_alpha):\n",
    "    alpha = alpha_grid[alpha_index]\n",
    "    for layer_index in range(len(layer_dims)):\n",
    "        d = layer_dims[layer_index]\n",
    "        alpha_sparse_vecs[alpha_index, layer_index] = min(d-1,int(alpha*d))"
   ]
  },
  {
   "cell_type": "code",
   "execution_count": 52,
   "id": "cc46015c-2b4d-4ebb-8177-89811f11853a",
   "metadata": {},
   "outputs": [
    {
     "data": {
      "text/plain": [
       "3"
      ]
     },
     "execution_count": 52,
     "metadata": {},
     "output_type": "execute_result"
    }
   ],
   "source": [
    "depth"
   ]
  },
  {
   "cell_type": "code",
   "execution_count": 63,
   "id": "c79smaqi85kv",
   "metadata": {
    "id": "c79smaqi85kv"
   },
   "outputs": [],
   "source": [
    "def tradeoff_eps_alpha(failure_delta = 0.1, verbose=False):\n",
    "    for eps_index in range(num_epsilon):\n",
    "        #eps_index = num_epsilon -1 -eps_index \n",
    "        epsilon = eps_grid[eps_index]\n",
    "        layer_epsilons, gammas = get_radius_thresholds(epsilon)\n",
    "        cum_sensitivity[eps_index] = gammas\n",
    "        layerwise_epsilons[eps_index] = layer_epsilons\n",
    "            \n",
    "        _, full_scale  = get_zetas([0]*(depth-1))\n",
    "        full_margin_threshold = 4 * full_scale * gammas[-1]\n",
    "\n",
    "        full_margin_risk = torch.sum(torch.Tensor(margins) < full_margin_threshold).float()/batch_size\n",
    "        \n",
    "        if verbose: \n",
    "            print(f'Average margin is {torch.sum(torch.Tensor(margins))/batch_size}')\n",
    "            print(f'Full Lipschitz scale is {full_scale}')\n",
    "            print(f'Cumulative gamma with epsilon {epsilon} is {gammas[-1]}')\n",
    "            print(f'Margin threshold with full scale is {full_margin_threshold}')\n",
    "            \n",
    "        concentration_1 = 2*depth/(math.sqrt(batch_size)-1)\n",
    "        full_sigma_prior, full_sigma_posterior = get_variance([0]*(depth-1), layer_epsilons)\n",
    "        full_layer_kl = []\n",
    "        full_cumulative_kl = 0.0\n",
    "        for layer_index in range(depth):\n",
    "            layer_wise_kl = layer_KL(layer_index, full_sigma_prior[layer_index], layer_epsilons[layer_index])\n",
    "            full_cumulative_kl += layer_wise_kl\n",
    "            full_layer_kl.append(layer_wise_kl)  \n",
    "        \n",
    "        full_concentration_2 = 0.0\n",
    "        grid_log = math.log(num_epsilon*num_alpha*num_eta)\n",
    "        full_concentration_2 += math.sqrt(4* full_cumulative_kl + grid_log + 2*math.log(2*batch_size*depth/failure_delta)) / math.sqrt(batch_size-1)\n",
    "        zero_sparse_grid[eps_index] = full_margin_risk + concentration_1 + full_concentration_2 \n",
    "        \n",
    "        bound_concentration_2[eps_index] = full_concentration_2\n",
    "        bound_full_scale[eps_index] = full_scale\n",
    "        bound_full_empirical_risk[eps_index] = full_margin_risk\n",
    "        bound_full_variance[eps_index] = full_sigma_prior\n",
    "        if verbose: \n",
    "            print(f'Margin empirical risk is {full_margin_risk}, concentration_1 is {concentration_1} and concentration_2 is {full_concentration_2}')\n",
    "        \n",
    "        print(f'\\nZero sparse generalization bound for eps: {epsilon} is {zero_sparse_grid[eps_index]}')      \n",
    "              \n",
    "        greedy_sparsity_batch = collect_greedy(epsilon) \n",
    "        greedy_sparsity_eps_grid[eps_index] = greedy_sparsity_batch # to be indexed using eps_index\n",
    "        for alpha_index in range(num_alpha):\n",
    "            alpha = alpha_grid[alpha_index]\n",
    "            _, greedy_relax_sparsity = collect_greedy_relax(epsilon, alpha, greedy_sparsity_batch = greedy_sparsity_batch) \n",
    "            greedy_relaxed_sparsity_eps_alpha_grid[eps_index, alpha_index] = greedy_relax_sparsity \n",
    "                \n",
    "            _, sparse_scale  = get_zetas(alpha_sparse_vecs[alpha_index]) # greedy_relax_sparsity\n",
    "            margin_threshold = 4 * sparse_scale * gammas[-1]\n",
    "            if verbose: \n",
    "                print(f'Testing at sparsity level is {alpha_sparse_vecs[alpha_index]}') # greedy_relax_sparsity\n",
    "                print(f'Sparse scale is {sparse_scale}')\n",
    "                print(f'Margin threshold with sparse scale is {margin_threshold}')\n",
    "\n",
    "            margin_risk = torch.sum(torch.Tensor(margins) < margin_threshold).float()/batch_size\n",
    "            \n",
    "            concentration_1 = 4*depth/(math.sqrt(batch_size)-1)\n",
    "            cumulative_sparse_risk_1 = 0.0\n",
    "            cumulative_sparse_risk_2 = 0.0\n",
    "            \n",
    "            for input_index in range(dataset_size):\n",
    "                if input_index < pretrain_size:\n",
    "                    continue\n",
    "        \n",
    "                # collect radiuses \n",
    "                layer_radii = []\n",
    "                for layer_index in range(depth-1):\n",
    "                    sparsity_levels = greedy_relax_sparsity[:layer_index+1]\n",
    "                    rad = layer_radius(input_index, layer_index, sparsity_levels)\n",
    "                    layer_radii.append(rad)\n",
    "\n",
    "                    #if layer_index == depth-2:\n",
    "                    \n",
    "                #print(layer_radii)\n",
    "                #print([item * 3 for item in gammas])\n",
    "                \n",
    "                for layer_index in range(depth-1):\n",
    "                    satisfied_1 = True \n",
    "                    satisfied_2 = True\n",
    "                    \n",
    "                    for sub_layer_index in range(layer_index+1):\n",
    "                        if layer_radii[sub_layer_index] < gammas[sub_layer_index]:\n",
    "                            satisfied_1 = False\n",
    "                        if layer_radii[sub_layer_index] < 3*gammas[sub_layer_index]:\n",
    "                            satisfied_2 = False\n",
    "                    \n",
    "                    if not satisfied_1: \n",
    "                        cumulative_sparse_risk_1 += 1\n",
    "                    if not satisfied_2: \n",
    "                        cumulative_sparse_risk_2 += 1\n",
    "            \n",
    "            cumulative_sparse_risk_1 = cumulative_sparse_risk_1/batch_size\n",
    "            cumulative_sparse_risk_2 = cumulative_sparse_risk_2/batch_size\n",
    "            \n",
    "            concentration_2 = 0.0\n",
    "            sigma_prior, sigma_posterior = get_variance(greedy_relax_sparsity, layer_epsilons)\n",
    "            layer_kl = []\n",
    "            for layer_index in range(depth):\n",
    "                layer_kl.append(layer_KL(layer_index, sigma_prior[layer_index], layer_epsilons[layer_index]))  \n",
    "    \n",
    "            for layer_index in range(depth):\n",
    "                cumulative_kl = 0.0\n",
    "                for sub_layer_index in range(layer_index+1):\n",
    "                    cumulative_kl += layer_kl[sub_layer_index]\n",
    "                \n",
    "                concentration_2 += math.sqrt(4* cumulative_kl + grid_log + 2*math.log(2*batch_size*depth/0.1)) / math.sqrt(batch_size-1)\n",
    "\n",
    "            generalization_grid[eps_index, alpha_index] = margin_risk + cumulative_sparse_risk_1 + cumulative_sparse_risk_2 + concentration_1 + concentration_2\n",
    "            sparse_empirical_risk[eps_index, alpha_index] = margin_risk\n",
    "            bound_sparse_loss[eps_index, alpha_index] = cumulative_sparse_risk_1 + cumulative_sparse_risk_2\n",
    "            bound_sparse_kl_divergence[eps_index, alpha_index] = concentration_2\n",
    "            bound_sparse_margin_scale[eps_index, alpha_index] = sparse_scale\n",
    "            bound_sparse_variance[eps_index] = sigma_prior \n",
    "              \n",
    "            if verbose: \n",
    "                print(f'Margin empirical risk is {margin_risk}, sparse risks are {cumulative_sparse_risk_1, cumulative_sparse_risk_2}, concentration_1 is {concentration_1} and concentration_2 is {concentration_2}')\n",
    "            print(f'Sparse generalization bound eps: {epsilon} and alpha: {alpha} and Greedy sparsity vector {greedy_relax_sparsity} is {generalization_grid[eps_index, alpha_index]}')\n",
    "            # evaluate margin loss with margin threshold "
   ]
  },
  {
   "cell_type": "code",
   "execution_count": 64,
   "id": "mBgZela9bsPJ",
   "metadata": {
    "colab": {
     "base_uri": "https://localhost:8080/"
    },
    "id": "mBgZela9bsPJ",
    "outputId": "4ea07f90-02b8-4cf9-ba3b-ffc1390fb5c6"
   },
   "outputs": [],
   "source": [
    "#%time tradeoff_eps_alpha()"
   ]
  },
  {
   "cell_type": "code",
   "execution_count": 65,
   "id": "0f39e053-c9a6-4634-b2ea-ae30f2688234",
   "metadata": {
    "tags": []
   },
   "outputs": [
    {
     "name": "stdout",
     "output_type": "stream",
     "text": [
      "Average margin is 4.6134867668151855\n",
      "Full Lipschitz scale is 808.3304443359375\n",
      "Cumulative gamma with epsilon 0.0001 is 0.0001833433335\n",
      "Margin threshold with full scale is 0.5928080081939697\n",
      "Margin empirical risk is 0.08902674168348312, concentration_1 is 0.027878775987216393 and concentration_2 is 97.76352279578249\n",
      "\n",
      "Zero sparse generalization bound for eps: 0.0001 is 97.88042449951172\n",
      "Testing at sparsity level is [0 0]\n",
      "Sparse scale is 808.3304443359375\n",
      "Margin threshold with sparse scale is 0.5928080081939697\n",
      "Margin empirical risk is 0.08902674168348312, sparse risks are (0.005112299465240642, 0.006759358288770054), concentration_1 is 0.05575755197443279 and concentration_2 is 293.24785809357184\n",
      "Sparse generalization bound eps: 0.0001 and alpha: 0.001 and Greedy sparsity vector [1 9] is 293.4045104980469\n",
      "Testing at sparsity level is [3 3]\n",
      "Sparse scale is 668.758056640625\n",
      "Margin threshold with sparse scale is 0.49044933915138245\n"
     ]
    },
    {
     "ename": "KeyboardInterrupt",
     "evalue": "",
     "output_type": "error",
     "traceback": [
      "\u001b[0;31m---------------------------------------------------------------------------\u001b[0m",
      "\u001b[0;31mKeyboardInterrupt\u001b[0m                         Traceback (most recent call last)",
      "Cell \u001b[0;32mIn[65], line 1\u001b[0m\n\u001b[0;32m----> 1\u001b[0m result \u001b[38;5;241m=\u001b[39m \u001b[43mget_ipython\u001b[49m\u001b[43m(\u001b[49m\u001b[43m)\u001b[49m\u001b[38;5;241;43m.\u001b[39;49m\u001b[43mrun_line_magic\u001b[49m\u001b[43m(\u001b[49m\u001b[38;5;124;43m'\u001b[39;49m\u001b[38;5;124;43mtimeit\u001b[39;49m\u001b[38;5;124;43m'\u001b[39;49m\u001b[43m,\u001b[49m\u001b[43m \u001b[49m\u001b[38;5;124;43m'\u001b[39;49m\u001b[38;5;124;43m-n1 -r1 -o tradeoff_eps_alpha(verbose=True)\u001b[39;49m\u001b[38;5;124;43m'\u001b[39;49m\u001b[43m)\u001b[49m\n",
      "File \u001b[0;32m~/anaconda3/envs/advrob/lib/python3.9/site-packages/IPython/core/interactiveshell.py:2364\u001b[0m, in \u001b[0;36mInteractiveShell.run_line_magic\u001b[0;34m(self, magic_name, line, _stack_depth)\u001b[0m\n\u001b[1;32m   2362\u001b[0m     kwargs[\u001b[38;5;124m'\u001b[39m\u001b[38;5;124mlocal_ns\u001b[39m\u001b[38;5;124m'\u001b[39m] \u001b[38;5;241m=\u001b[39m \u001b[38;5;28mself\u001b[39m\u001b[38;5;241m.\u001b[39mget_local_scope(stack_depth)\n\u001b[1;32m   2363\u001b[0m \u001b[38;5;28;01mwith\u001b[39;00m \u001b[38;5;28mself\u001b[39m\u001b[38;5;241m.\u001b[39mbuiltin_trap:\n\u001b[0;32m-> 2364\u001b[0m     result \u001b[38;5;241m=\u001b[39m \u001b[43mfn\u001b[49m\u001b[43m(\u001b[49m\u001b[38;5;241;43m*\u001b[39;49m\u001b[43margs\u001b[49m\u001b[43m,\u001b[49m\u001b[43m \u001b[49m\u001b[38;5;241;43m*\u001b[39;49m\u001b[38;5;241;43m*\u001b[39;49m\u001b[43mkwargs\u001b[49m\u001b[43m)\u001b[49m\n\u001b[1;32m   2365\u001b[0m \u001b[38;5;28;01mreturn\u001b[39;00m result\n",
      "File \u001b[0;32m~/anaconda3/envs/advrob/lib/python3.9/site-packages/IPython/core/magics/execution.py:1166\u001b[0m, in \u001b[0;36mExecutionMagics.timeit\u001b[0;34m(self, line, cell, local_ns)\u001b[0m\n\u001b[1;32m   1163\u001b[0m         \u001b[38;5;28;01mif\u001b[39;00m time_number \u001b[38;5;241m>\u001b[39m\u001b[38;5;241m=\u001b[39m \u001b[38;5;241m0.2\u001b[39m:\n\u001b[1;32m   1164\u001b[0m             \u001b[38;5;28;01mbreak\u001b[39;00m\n\u001b[0;32m-> 1166\u001b[0m all_runs \u001b[38;5;241m=\u001b[39m \u001b[43mtimer\u001b[49m\u001b[38;5;241;43m.\u001b[39;49m\u001b[43mrepeat\u001b[49m\u001b[43m(\u001b[49m\u001b[43mrepeat\u001b[49m\u001b[43m,\u001b[49m\u001b[43m \u001b[49m\u001b[43mnumber\u001b[49m\u001b[43m)\u001b[49m\n\u001b[1;32m   1167\u001b[0m best \u001b[38;5;241m=\u001b[39m \u001b[38;5;28mmin\u001b[39m(all_runs) \u001b[38;5;241m/\u001b[39m number\n\u001b[1;32m   1168\u001b[0m worst \u001b[38;5;241m=\u001b[39m \u001b[38;5;28mmax\u001b[39m(all_runs) \u001b[38;5;241m/\u001b[39m number\n",
      "File \u001b[0;32m~/anaconda3/envs/advrob/lib/python3.9/timeit.py:205\u001b[0m, in \u001b[0;36mTimer.repeat\u001b[0;34m(self, repeat, number)\u001b[0m\n\u001b[1;32m    203\u001b[0m r \u001b[38;5;241m=\u001b[39m []\n\u001b[1;32m    204\u001b[0m \u001b[38;5;28;01mfor\u001b[39;00m i \u001b[38;5;129;01min\u001b[39;00m \u001b[38;5;28mrange\u001b[39m(repeat):\n\u001b[0;32m--> 205\u001b[0m     t \u001b[38;5;241m=\u001b[39m \u001b[38;5;28;43mself\u001b[39;49m\u001b[38;5;241;43m.\u001b[39;49m\u001b[43mtimeit\u001b[49m\u001b[43m(\u001b[49m\u001b[43mnumber\u001b[49m\u001b[43m)\u001b[49m\n\u001b[1;32m    206\u001b[0m     r\u001b[38;5;241m.\u001b[39mappend(t)\n\u001b[1;32m    207\u001b[0m \u001b[38;5;28;01mreturn\u001b[39;00m r\n",
      "File \u001b[0;32m~/anaconda3/envs/advrob/lib/python3.9/site-packages/IPython/core/magics/execution.py:156\u001b[0m, in \u001b[0;36mTimer.timeit\u001b[0;34m(self, number)\u001b[0m\n\u001b[1;32m    154\u001b[0m gc\u001b[38;5;241m.\u001b[39mdisable()\n\u001b[1;32m    155\u001b[0m \u001b[38;5;28;01mtry\u001b[39;00m:\n\u001b[0;32m--> 156\u001b[0m     timing \u001b[38;5;241m=\u001b[39m \u001b[38;5;28;43mself\u001b[39;49m\u001b[38;5;241;43m.\u001b[39;49m\u001b[43minner\u001b[49m\u001b[43m(\u001b[49m\u001b[43mit\u001b[49m\u001b[43m,\u001b[49m\u001b[43m \u001b[49m\u001b[38;5;28;43mself\u001b[39;49m\u001b[38;5;241;43m.\u001b[39;49m\u001b[43mtimer\u001b[49m\u001b[43m)\u001b[49m\n\u001b[1;32m    157\u001b[0m \u001b[38;5;28;01mfinally\u001b[39;00m:\n\u001b[1;32m    158\u001b[0m     \u001b[38;5;28;01mif\u001b[39;00m gcold:\n",
      "File \u001b[0;32m<magic-timeit>:1\u001b[0m, in \u001b[0;36minner\u001b[0;34m(_it, _timer)\u001b[0m\n",
      "Cell \u001b[0;32mIn[63], line 71\u001b[0m, in \u001b[0;36mtradeoff_eps_alpha\u001b[0;34m(failure_delta, verbose)\u001b[0m\n\u001b[1;32m     69\u001b[0m \u001b[38;5;28;01mfor\u001b[39;00m layer_index \u001b[38;5;129;01min\u001b[39;00m \u001b[38;5;28mrange\u001b[39m(depth\u001b[38;5;241m-\u001b[39m\u001b[38;5;241m1\u001b[39m):\n\u001b[1;32m     70\u001b[0m     sparsity_levels \u001b[38;5;241m=\u001b[39m greedy_relax_sparsity[:layer_index\u001b[38;5;241m+\u001b[39m\u001b[38;5;241m1\u001b[39m]\n\u001b[0;32m---> 71\u001b[0m     rad \u001b[38;5;241m=\u001b[39m \u001b[43mlayer_radius\u001b[49m\u001b[43m(\u001b[49m\u001b[43minput_index\u001b[49m\u001b[43m,\u001b[49m\u001b[43m \u001b[49m\u001b[43mlayer_index\u001b[49m\u001b[43m,\u001b[49m\u001b[43m \u001b[49m\u001b[43msparsity_levels\u001b[49m\u001b[43m)\u001b[49m\n\u001b[1;32m     72\u001b[0m     layer_radii\u001b[38;5;241m.\u001b[39mappend(rad)\n\u001b[1;32m     74\u001b[0m     \u001b[38;5;66;03m#if layer_index == depth-2:\u001b[39;00m\n\u001b[1;32m     75\u001b[0m     \n\u001b[1;32m     76\u001b[0m \u001b[38;5;66;03m#print(layer_radii)\u001b[39;00m\n\u001b[1;32m     77\u001b[0m \u001b[38;5;66;03m#print([item * 3 for item in gammas])\u001b[39;00m\n",
      "Cell \u001b[0;32mIn[62], line 8\u001b[0m, in \u001b[0;36mlayer_radius\u001b[0;34m(input_index, layer_index, sparsity_levels)\u001b[0m\n\u001b[1;32m      6\u001b[0m     sparse_radius \u001b[38;5;241m=\u001b[39m np\u001b[38;5;241m.\u001b[39minf \n\u001b[1;32m      7\u001b[0m \u001b[38;5;28;01melse\u001b[39;00m:\n\u001b[0;32m----> 8\u001b[0m     sparse_radius \u001b[38;5;241m=\u001b[39m \u001b[38;5;28mmax\u001b[39m(torch\u001b[38;5;241m.\u001b[39msort(\u001b[38;5;241;43m-\u001b[39;49m\u001b[43mnormalized_out\u001b[49m, descending\u001b[38;5;241m=\u001b[39m\u001b[38;5;28;01mTrue\u001b[39;00m)\u001b[38;5;241m.\u001b[39mvalues[s_out\u001b[38;5;241m-\u001b[39m\u001b[38;5;241m1\u001b[39m]\u001b[38;5;241m.\u001b[39mitem(),\u001b[38;5;241m0\u001b[39m)\n\u001b[1;32m     10\u001b[0m \u001b[38;5;28;01mreturn\u001b[39;00m sparse_radius\n",
      "File \u001b[0;32m~/anaconda3/envs/advrob/lib/python3.9/traceback.py:197\u001b[0m, in \u001b[0;36mformat_stack\u001b[0;34m(f, limit)\u001b[0m\n\u001b[1;32m    195\u001b[0m \u001b[38;5;28;01mif\u001b[39;00m f \u001b[38;5;129;01mis\u001b[39;00m \u001b[38;5;28;01mNone\u001b[39;00m:\n\u001b[1;32m    196\u001b[0m     f \u001b[38;5;241m=\u001b[39m sys\u001b[38;5;241m.\u001b[39m_getframe()\u001b[38;5;241m.\u001b[39mf_back\n\u001b[0;32m--> 197\u001b[0m \u001b[38;5;28;01mreturn\u001b[39;00m format_list(\u001b[43mextract_stack\u001b[49m\u001b[43m(\u001b[49m\u001b[43mf\u001b[49m\u001b[43m,\u001b[49m\u001b[43m \u001b[49m\u001b[43mlimit\u001b[49m\u001b[38;5;241;43m=\u001b[39;49m\u001b[43mlimit\u001b[49m\u001b[43m)\u001b[49m)\n",
      "File \u001b[0;32m~/anaconda3/envs/advrob/lib/python3.9/traceback.py:211\u001b[0m, in \u001b[0;36mextract_stack\u001b[0;34m(f, limit)\u001b[0m\n\u001b[1;32m    209\u001b[0m \u001b[38;5;28;01mif\u001b[39;00m f \u001b[38;5;129;01mis\u001b[39;00m \u001b[38;5;28;01mNone\u001b[39;00m:\n\u001b[1;32m    210\u001b[0m     f \u001b[38;5;241m=\u001b[39m sys\u001b[38;5;241m.\u001b[39m_getframe()\u001b[38;5;241m.\u001b[39mf_back\n\u001b[0;32m--> 211\u001b[0m stack \u001b[38;5;241m=\u001b[39m \u001b[43mStackSummary\u001b[49m\u001b[38;5;241;43m.\u001b[39;49m\u001b[43mextract\u001b[49m\u001b[43m(\u001b[49m\u001b[43mwalk_stack\u001b[49m\u001b[43m(\u001b[49m\u001b[43mf\u001b[49m\u001b[43m)\u001b[49m\u001b[43m,\u001b[49m\u001b[43m \u001b[49m\u001b[43mlimit\u001b[49m\u001b[38;5;241;43m=\u001b[39;49m\u001b[43mlimit\u001b[49m\u001b[43m)\u001b[49m\n\u001b[1;32m    212\u001b[0m stack\u001b[38;5;241m.\u001b[39mreverse()\n\u001b[1;32m    213\u001b[0m \u001b[38;5;28;01mreturn\u001b[39;00m stack\n",
      "File \u001b[0;32m~/anaconda3/envs/advrob/lib/python3.9/traceback.py:366\u001b[0m, in \u001b[0;36mStackSummary.extract\u001b[0;34m(klass, frame_gen, limit, lookup_lines, capture_locals)\u001b[0m\n\u001b[1;32m    364\u001b[0m \u001b[38;5;28;01mif\u001b[39;00m lookup_lines:\n\u001b[1;32m    365\u001b[0m     \u001b[38;5;28;01mfor\u001b[39;00m f \u001b[38;5;129;01min\u001b[39;00m result:\n\u001b[0;32m--> 366\u001b[0m         \u001b[43mf\u001b[49m\u001b[38;5;241;43m.\u001b[39;49m\u001b[43mline\u001b[49m\n\u001b[1;32m    367\u001b[0m \u001b[38;5;28;01mreturn\u001b[39;00m result\n",
      "File \u001b[0;32m~/anaconda3/envs/advrob/lib/python3.9/traceback.py:288\u001b[0m, in \u001b[0;36mFrameSummary.line\u001b[0;34m(self)\u001b[0m\n\u001b[1;32m    285\u001b[0m \u001b[38;5;129m@property\u001b[39m\n\u001b[1;32m    286\u001b[0m \u001b[38;5;28;01mdef\u001b[39;00m \u001b[38;5;21mline\u001b[39m(\u001b[38;5;28mself\u001b[39m):\n\u001b[1;32m    287\u001b[0m     \u001b[38;5;28;01mif\u001b[39;00m \u001b[38;5;28mself\u001b[39m\u001b[38;5;241m.\u001b[39m_line \u001b[38;5;129;01mis\u001b[39;00m \u001b[38;5;28;01mNone\u001b[39;00m:\n\u001b[0;32m--> 288\u001b[0m         \u001b[38;5;28mself\u001b[39m\u001b[38;5;241m.\u001b[39m_line \u001b[38;5;241m=\u001b[39m \u001b[43mlinecache\u001b[49m\u001b[38;5;241;43m.\u001b[39;49m\u001b[43mgetline\u001b[49m\u001b[43m(\u001b[49m\u001b[38;5;28;43mself\u001b[39;49m\u001b[38;5;241;43m.\u001b[39;49m\u001b[43mfilename\u001b[49m\u001b[43m,\u001b[49m\u001b[43m \u001b[49m\u001b[38;5;28;43mself\u001b[39;49m\u001b[38;5;241;43m.\u001b[39;49m\u001b[43mlineno\u001b[49m\u001b[43m)\u001b[49m\u001b[38;5;241m.\u001b[39mstrip()\n\u001b[1;32m    289\u001b[0m     \u001b[38;5;28;01mreturn\u001b[39;00m \u001b[38;5;28mself\u001b[39m\u001b[38;5;241m.\u001b[39m_line\n",
      "File \u001b[0;32m~/anaconda3/envs/advrob/lib/python3.9/linecache.py:31\u001b[0m, in \u001b[0;36mgetline\u001b[0;34m(filename, lineno, module_globals)\u001b[0m\n\u001b[1;32m     27\u001b[0m \u001b[38;5;124;03m\"\"\"Get a line for a Python source file from the cache.\u001b[39;00m\n\u001b[1;32m     28\u001b[0m \u001b[38;5;124;03mUpdate the cache if it doesn't contain an entry for this file already.\"\"\"\u001b[39;00m\n\u001b[1;32m     30\u001b[0m lines \u001b[38;5;241m=\u001b[39m getlines(filename, module_globals)\n\u001b[0;32m---> 31\u001b[0m \u001b[38;5;28;01mif\u001b[39;00m \u001b[38;5;241m1\u001b[39m \u001b[38;5;241m<\u001b[39m\u001b[38;5;241m=\u001b[39m lineno \u001b[38;5;241m<\u001b[39m\u001b[38;5;241m=\u001b[39m \u001b[38;5;28mlen\u001b[39m(lines):\n\u001b[1;32m     32\u001b[0m     \u001b[38;5;28;01mreturn\u001b[39;00m lines[lineno \u001b[38;5;241m-\u001b[39m \u001b[38;5;241m1\u001b[39m]\n\u001b[1;32m     33\u001b[0m \u001b[38;5;28;01mreturn\u001b[39;00m \u001b[38;5;124m'\u001b[39m\u001b[38;5;124m'\u001b[39m\n",
      "\u001b[0;31mKeyboardInterrupt\u001b[0m: "
     ]
    }
   ],
   "source": [
    "result = %timeit -n1 -r1 -o tradeoff_eps_alpha(verbose=True)"
   ]
  },
  {
   "cell_type": "code",
   "execution_count": 67,
   "id": "029bbfc5-d66e-402f-91c7-6644f4429523",
   "metadata": {},
   "outputs": [
    {
     "ename": "NameError",
     "evalue": "name 'result' is not defined",
     "output_type": "error",
     "traceback": [
      "\u001b[0;31m---------------------------------------------------------------------------\u001b[0m",
      "\u001b[0;31mNameError\u001b[0m                                 Traceback (most recent call last)",
      "Cell \u001b[0;32mIn[67], line 1\u001b[0m\n\u001b[0;32m----> 1\u001b[0m \u001b[38;5;28mprint\u001b[39m(\u001b[43mresult\u001b[49m)\n\u001b[1;32m      2\u001b[0m \u001b[38;5;28mprint\u001b[39m(result\u001b[38;5;241m.\u001b[39maverage)\n",
      "\u001b[0;31mNameError\u001b[0m: name 'result' is not defined"
     ]
    }
   ],
   "source": [
    "print(result)\n",
    "print(result.average)"
   ]
  },
  {
   "cell_type": "code",
   "execution_count": 69,
   "id": "081dadd8-4872-40bf-8a31-5c73fe2dddc5",
   "metadata": {},
   "outputs": [
    {
     "name": "stdout",
     "output_type": "stream",
     "text": [
      "./COLT_saved/mnist/30_30/base_pretrain_0d15_reg_1d00_datasetp_1d00/generalization_info\n"
     ]
    }
   ],
   "source": [
    "info = OrderedDict() \n",
    "\n",
    "info_path = get_path(layer_dims, data_str = 'mnist', prefix_str = 'generalization_info', reg_eta = reg_eta, dataset_percentage=dataset_percentage, pretrain_ratio=pretrain_ratio) \n",
    "print(info_path)\n",
    "\n",
    "#- what should I save ? \n",
    "config = OrderedDict()\n",
    "\n",
    "# Model Hyperparameters\n",
    "config['layer_dims'] = layer_dims\n",
    "\n",
    "# Data hyperparameters\n",
    "config['pretrain_ratio'] = pretrain_ratio\n",
    "config['dataset_percentage'] = dataset_percentage\n",
    "\n",
    "# Generalization Hyper-parameters\n",
    "config['num_alpha'] = num_alpha\n",
    "config['alpha_min'] = alpha_min \n",
    "config['alpha_max'] = alpha_max\n",
    "config['num_epsilon'] = num_epsilon\n",
    "config['epsilon_min'] = epsilon_min\n",
    "config['epsilon_max'] = epsilon_max\n",
    "config['num_eta'] = num_eta # always between 0 and 1. \n",
    "config['failure_delta'] = 0.1 \n",
    "\n",
    "# Training Hyper-parameters\n",
    "config['num_steps'] = num_steps\n",
    "config['lr'] = lr \n",
    "config['training_batch_size'] = 100\n",
    "config['reg_eta'] = reg_eta\n",
    "\n",
    "info['config'] = config\n",
    "info['test_error'] = test_error\n",
    "info['train_error'] = train_error\n",
    "info['margins'] = margins\n",
    "info['eps_grid'] = eps_grid\n",
    "info['alpha_grid'] = alpha_grid\n",
    "info['eta_grid'] = eta_grid\n",
    "info['layer_reduced_row_norms'] = layer_reduced_row_norms\n",
    "info['layer_reduced_babel'] = layer_reduced_babel\n",
    "info['layer_etas'] = layer_etas\n",
    "\n",
    "info['cum_sensitivity'] = cum_sensitivity\n",
    "info['layerwise_epsilons'] = layerwise_epsilons\n",
    "\n",
    "info['zero_sparse_grid'] = zero_sparse_grid \n",
    "info['bound_concentration_2'] = bound_concentration_2\n",
    "info['bound_full_scale'] = bound_full_scale\n",
    "info['bound_full_empirical_risk'] = bound_full_empirical_risk\n",
    "info['bound_full_variance'] = bound_full_variance\n",
    "\n",
    "info['greedy_sparsity_eps_grid'] = greedy_sparsity_eps_grid \n",
    "info['greedy_relaxed_sparsity_eps_alpha_grid'] = greedy_relaxed_sparsity_eps_alpha_grid\n",
    "\n",
    "info['generalization_grid'] = generalization_grid\n",
    "info['sparse_empirical_risk'] = sparse_empirical_risk\n",
    "info['bound_sparse_kl_divergence'] = bound_sparse_kl_divergence\n",
    "info['bound_sparse_margin_scale'] = bound_sparse_margin_scale\n",
    "info['bound_sparse_loss'] = bound_sparse_loss\n",
    "info['bound_sparse_variance'] = bound_sparse_variance\n",
    "     \n",
    "info['alpha_sparse_vecs'] = alpha_sparse_vecs"
   ]
  },
  {
   "cell_type": "code",
   "execution_count": null,
   "id": "ekHvb-1485nB",
   "metadata": {
    "colab": {
     "base_uri": "https://localhost:8080/"
    },
    "id": "ekHvb-1485nB",
    "outputId": "c69001b7-8e91-4606-d4ba-e69f39789efe"
   },
   "outputs": [],
   "source": [
    "with open(info_path, 'wb') as f:\n",
    "    pickle.dump(info, f)\n"
   ]
  }
 ],
 "metadata": {
  "accelerator": "GPU",
  "colab": {
   "machine_shape": "hm",
   "provenance": []
  },
  "gpuClass": "standard",
  "kernelspec": {
   "display_name": "Python 3 (ipykernel)",
   "language": "python",
   "name": "python3"
  },
  "language_info": {
   "codemirror_mode": {
    "name": "ipython",
    "version": 3
   },
   "file_extension": ".py",
   "mimetype": "text/x-python",
   "name": "python",
   "nbconvert_exporter": "python",
   "pygments_lexer": "ipython3",
   "version": "3.9.12"
  }
 },
 "nbformat": 4,
 "nbformat_minor": 5
}
